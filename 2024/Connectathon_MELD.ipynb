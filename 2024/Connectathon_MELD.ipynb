{
 "cells": [
  {
   "cell_type": "code",
   "execution_count": 62,
   "id": "c4195761-c853-4167-a3f5-b43062a87c76",
   "metadata": {
    "ExecuteTime": {
     "end_time": "2024-01-16T19:31:30.145683Z",
     "start_time": "2024-01-16T19:31:29.266213Z"
    }
   },
   "outputs": [
    {
     "name": "stdout",
     "output_type": "stream",
     "text": [
      "Note: you may need to restart the kernel to use updated packages.\n"
     ]
    }
   ],
   "source": [
    "pip install -q -r requirements.txt"
   ]
  },
  {
   "cell_type": "code",
   "execution_count": 63,
   "id": "ad6d1b7f-2d99-4949-893e-b17db6dbfa94",
   "metadata": {
    "ExecuteTime": {
     "end_time": "2024-01-16T19:31:30.149031Z",
     "start_time": "2024-01-16T19:31:30.145829Z"
    }
   },
   "outputs": [],
   "source": [
    "import logging\n",
    "import json\n",
    "from IPython.display import Pretty, HTML\n",
    "import urllib3\n",
    "\n",
    "from pyfhirclient.FhirClient import FhirClient\n",
    "\n",
    "logging.basicConfig()\n",
    "logging.getLogger().setLevel(logging.ERROR)\n",
    "\n",
    "# Disable the unverified HTTPS request warnings\n",
    "urllib3.disable_warnings()"
   ]
  },
  {
   "cell_type": "code",
   "execution_count": 64,
   "id": "ddae87dd-b946-49f4-90c6-35b8e939dc28",
   "metadata": {
    "ExecuteTime": {
     "end_time": "2024-01-16T19:31:30.152349Z",
     "start_time": "2024-01-16T19:31:30.148326Z"
    }
   },
   "outputs": [],
   "source": [
    "def setup_fhir_client() -> FhirClient:\n",
    "    fhir_client = FhirClient(base_url='https://gw.interop.community/HeliosConnectathonSa/open/')\n",
    "    return fhir_client"
   ]
  },
  {
   "cell_type": "code",
   "execution_count": 65,
   "id": "34093991-7c01-4024-b44d-b110b3832399",
   "metadata": {
    "ExecuteTime": {
     "end_time": "2024-01-16T19:31:31.106220Z",
     "start_time": "2024-01-16T19:31:30.152911Z"
    }
   },
   "outputs": [
    {
     "data": {
      "text/plain": "{\n    \"resourceType\": \"Bundle\",\n    \"id\": \"595638e9-3060-4b6f-81b9-00b28fe1b5b8\",\n    \"meta\": {\n        \"lastUpdated\": \"2024-01-16T19:31:30.965+00:00\"\n    },\n    \"type\": \"searchset\",\n    \"total\": 1,\n    \"link\": [\n        {\n            \"relation\": \"self\",\n            \"url\": \"https://gw.interop.community/HeliosConnectathonSa/open/Patient?family=Blackstone&given=Veronica\"\n        }\n    ],\n    \"entry\": [\n        {\n            \"fullUrl\": \"https://gw.interop.community/HeliosConnectathonSa/open/Patient/101h\",\n            \"resource\": {\n                \"resourceType\": \"Patient\",\n                \"id\": \"101h\",\n                \"meta\": {\n                    \"versionId\": \"1\",\n                    \"lastUpdated\": \"2024-01-16T15:10:12.000+00:00\",\n                    \"source\": \"#egQALPFh5OgeIPvd\",\n                    \"profile\": [\n                        \"http://hl7.org/fhir/us/core/StructureDefinition/us-core-patient\"\n                    ]\n                },\n                \"text\": {\n                    \"status\": \"generated\",\n                    \"div\": \"<div xmlns=\\\"http://www.w3.org/1999/xhtml\\\">This is a simple narrative with only plain text</div>\"\n                },\n                \"extension\": [\n                    {\n                        \"url\": \"http://mihin.org/extension/copyright\",\n                        \"valueString\": \"Copyright 2014-2023 Michigan Health Information Network Shared Services. Licensed under the Apache License, Version 2.0 (the 'License'); you may not use this file except in compliance with the License. You may obtain a copy of the License at  http://www.apache.org/licenses/LICENSE-2.0.  Unless required by applicable law or agreed to in writing, software distributed under the License is distributed on an 'AS IS' BASIS, WITHOUT WARRANTIES OR CONDITIONS OF ANY KIND, either express or implied. See the License for the specific language governing permissions and limitations under the License.\"\n                    },\n                    {\n                        \"url\": \"http://hl7.org/fhir/us/core/StructureDefinition/us-core-race\",\n                        \"extension\": [\n                            {\n                                \"url\": \"ombCategory\",\n                                \"valueCoding\": {\n                                    \"system\": \"urn:oid:2.16.840.1.113883.6.238\",\n                                    \"code\": \"2106-3\",\n                                    \"display\": \"White\"\n                                }\n                            },\n                            {\n                                \"url\": \"ombCategory\",\n                                \"valueCoding\": {\n                                    \"system\": \"urn:oid:2.16.840.1.113883.6.238\",\n                                    \"code\": \"1002-5\",\n                                    \"display\": \"American Indian or Alaska Native\"\n                                }\n                            },\n                            {\n                                \"url\": \"detailed\",\n                                \"valueCoding\": {\n                                    \"system\": \"urn:oid:2.16.840.1.113883.6.238\",\n                                    \"code\": \"1586-7\",\n                                    \"display\": \"Shoshone\"\n                                }\n                            },\n                            {\n                                \"url\": \"text\",\n                                \"valueString\": \"Mixed\"\n                            }\n                        ]\n                    },\n                    {\n                        \"url\": \"http://hl7.org/fhir/us/core/StructureDefinition/us-core-ethnicity\",\n                        \"extension\": [\n                            {\n                                \"url\": \"ombCategory\",\n                                \"valueCoding\": {\n                                    \"system\": \"urn:oid:2.16.840.1.113883.6.238\",\n                                    \"code\": \"2135-2\",\n                                    \"display\": \"Hispanic or Latino\"\n                                }\n                            },\n                            {\n                                \"url\": \"detailed\",\n                                \"valueCoding\": {\n                                    \"system\": \"urn:oid:2.16.840.1.113883.6.238\",\n                                    \"code\": \"2148-5\",\n                                    \"display\": \"Mexican\"\n                                }\n                            },\n                            {\n                                \"url\": \"text\",\n                                \"valueString\": \"Hispanic or Latino\"\n                            }\n                        ]\n                    },\n                    {\n                        \"url\": \"http://hl7.org/fhir/us/core/StructureDefinition/us-core-birthsex\",\n                        \"valueCode\": \"F\"\n                    }\n                ],\n                \"identifier\": [\n                    {\n                        \"use\": \"usual\",\n                        \"type\": {\n                            \"coding\": [\n                                {\n                                    \"system\": \"http://terminology.hl7.org/CodeSystem/v2-0203\",\n                                    \"code\": \"MR\",\n                                    \"display\": \"Medical Record Number\"\n                                }\n                            ],\n                            \"text\": \"Medical Record Number\"\n                        },\n                        \"system\": \"http://hospital.smarthealthit.org\",\n                        \"value\": \"34972316\"\n                    }\n                ],\n                \"active\": true,\n                \"name\": [\n                    {\n                        \"family\": \"Blackstone\",\n                        \"given\": [\n                            \"Veronica\",\n                            \"Anne\"\n                        ]\n                    }\n                ],\n                \"telecom\": [\n                    {\n                        \"system\": \"phone\",\n                        \"value\": \"937-379-3497\",\n                        \"use\": \"home\"\n                    },\n                    {\n                        \"system\": \"email\",\n                        \"value\": \"veronica.sawyer@example.com\"\n                    }\n                ],\n                \"gender\": \"female\",\n                \"birthDate\": \"1998-06-18\",\n                \"address\": [\n                    {\n                        \"line\": [\n                            \"120 Lucas Rd\"\n                        ],\n                        \"city\": \"Hamersville\",\n                        \"state\": \"OH\",\n                        \"postalCode\": \"45130\",\n                        \"country\": \"US\"\n                    }\n                ]\n            },\n            \"search\": {\n                \"mode\": \"match\"\n            }\n        }\n    ]\n}"
     },
     "execution_count": 65,
     "metadata": {},
     "output_type": "execute_result"
    }
   ],
   "source": [
    "client = setup_fhir_client()\n",
    "\n",
    "search_results = client.search('Patient', {\n",
    "    'family': 'Blackstone',\n",
    "    'given': 'Veronica'\n",
    "})\n",
    "Pretty(json.dumps(search_results, indent=4))"
   ]
  },
  {
   "cell_type": "markdown",
   "source": [
    "There should be exactly one `Patient` matching the search."
   ],
   "metadata": {
    "collapsed": false
   },
   "id": "67ff53180d9d8061"
  },
  {
   "cell_type": "code",
   "outputs": [
    {
     "data": {
      "text/plain": "{\n    \"fullUrl\": \"https://gw.interop.community/HeliosConnectathonSa/open/Patient/101h\",\n    \"resource\": {\n        \"resourceType\": \"Patient\",\n        \"id\": \"101h\",\n        \"meta\": {\n            \"versionId\": \"1\",\n            \"lastUpdated\": \"2024-01-16T15:10:12.000+00:00\",\n            \"source\": \"#egQALPFh5OgeIPvd\",\n            \"profile\": [\n                \"http://hl7.org/fhir/us/core/StructureDefinition/us-core-patient\"\n            ]\n        },\n        \"text\": {\n            \"status\": \"generated\",\n            \"div\": \"<div xmlns=\\\"http://www.w3.org/1999/xhtml\\\">This is a simple narrative with only plain text</div>\"\n        },\n        \"extension\": [\n            {\n                \"url\": \"http://mihin.org/extension/copyright\",\n                \"valueString\": \"Copyright 2014-2023 Michigan Health Information Network Shared Services. Licensed under the Apache License, Version 2.0 (the 'License'); you may not use this file except in compliance with the License. You may obtain a copy of the License at  http://www.apache.org/licenses/LICENSE-2.0.  Unless required by applicable law or agreed to in writing, software distributed under the License is distributed on an 'AS IS' BASIS, WITHOUT WARRANTIES OR CONDITIONS OF ANY KIND, either express or implied. See the License for the specific language governing permissions and limitations under the License.\"\n            },\n            {\n                \"url\": \"http://hl7.org/fhir/us/core/StructureDefinition/us-core-race\",\n                \"extension\": [\n                    {\n                        \"url\": \"ombCategory\",\n                        \"valueCoding\": {\n                            \"system\": \"urn:oid:2.16.840.1.113883.6.238\",\n                            \"code\": \"2106-3\",\n                            \"display\": \"White\"\n                        }\n                    },\n                    {\n                        \"url\": \"ombCategory\",\n                        \"valueCoding\": {\n                            \"system\": \"urn:oid:2.16.840.1.113883.6.238\",\n                            \"code\": \"1002-5\",\n                            \"display\": \"American Indian or Alaska Native\"\n                        }\n                    },\n                    {\n                        \"url\": \"detailed\",\n                        \"valueCoding\": {\n                            \"system\": \"urn:oid:2.16.840.1.113883.6.238\",\n                            \"code\": \"1586-7\",\n                            \"display\": \"Shoshone\"\n                        }\n                    },\n                    {\n                        \"url\": \"text\",\n                        \"valueString\": \"Mixed\"\n                    }\n                ]\n            },\n            {\n                \"url\": \"http://hl7.org/fhir/us/core/StructureDefinition/us-core-ethnicity\",\n                \"extension\": [\n                    {\n                        \"url\": \"ombCategory\",\n                        \"valueCoding\": {\n                            \"system\": \"urn:oid:2.16.840.1.113883.6.238\",\n                            \"code\": \"2135-2\",\n                            \"display\": \"Hispanic or Latino\"\n                        }\n                    },\n                    {\n                        \"url\": \"detailed\",\n                        \"valueCoding\": {\n                            \"system\": \"urn:oid:2.16.840.1.113883.6.238\",\n                            \"code\": \"2148-5\",\n                            \"display\": \"Mexican\"\n                        }\n                    },\n                    {\n                        \"url\": \"text\",\n                        \"valueString\": \"Hispanic or Latino\"\n                    }\n                ]\n            },\n            {\n                \"url\": \"http://hl7.org/fhir/us/core/StructureDefinition/us-core-birthsex\",\n                \"valueCode\": \"F\"\n            }\n        ],\n        \"identifier\": [\n            {\n                \"use\": \"usual\",\n                \"type\": {\n                    \"coding\": [\n                        {\n                            \"system\": \"http://terminology.hl7.org/CodeSystem/v2-0203\",\n                            \"code\": \"MR\",\n                            \"display\": \"Medical Record Number\"\n                        }\n                    ],\n                    \"text\": \"Medical Record Number\"\n                },\n                \"system\": \"http://hospital.smarthealthit.org\",\n                \"value\": \"34972316\"\n            }\n        ],\n        \"active\": true,\n        \"name\": [\n            {\n                \"family\": \"Blackstone\",\n                \"given\": [\n                    \"Veronica\",\n                    \"Anne\"\n                ]\n            }\n        ],\n        \"telecom\": [\n            {\n                \"system\": \"phone\",\n                \"value\": \"937-379-3497\",\n                \"use\": \"home\"\n            },\n            {\n                \"system\": \"email\",\n                \"value\": \"veronica.sawyer@example.com\"\n            }\n        ],\n        \"gender\": \"female\",\n        \"birthDate\": \"1998-06-18\",\n        \"address\": [\n            {\n                \"line\": [\n                    \"120 Lucas Rd\"\n                ],\n                \"city\": \"Hamersville\",\n                \"state\": \"OH\",\n                \"postalCode\": \"45130\",\n                \"country\": \"US\"\n            }\n        ]\n    },\n    \"search\": {\n        \"mode\": \"match\"\n    }\n}"
     },
     "execution_count": 66,
     "metadata": {},
     "output_type": "execute_result"
    }
   ],
   "source": [
    "patient = search_results['entry'][0]\n",
    "Pretty(json.dumps(patient, indent=4))"
   ],
   "metadata": {
    "collapsed": false,
    "ExecuteTime": {
     "end_time": "2024-01-16T19:31:31.107348Z",
     "start_time": "2024-01-16T19:31:31.102409Z"
    }
   },
   "id": "b70e48db58013b82",
   "execution_count": 66
  },
  {
   "cell_type": "markdown",
   "source": [
    "`MedicationAdministration` should have the medications administered to this Patient."
   ],
   "metadata": {
    "collapsed": false
   },
   "id": "dbb766e67639356a"
  },
  {
   "cell_type": "code",
   "execution_count": 67,
   "id": "52d167dc-37ed-4c92-9cb1-6b6863cac112",
   "metadata": {
    "ExecuteTime": {
     "end_time": "2024-01-16T19:31:31.268825Z",
     "start_time": "2024-01-16T19:31:31.108414Z"
    }
   },
   "outputs": [
    {
     "data": {
      "text/plain": "{\n    \"resourceType\": \"Bundle\",\n    \"id\": \"842b6c58-56e9-451f-8470-1c940bbb48a4\",\n    \"meta\": {\n        \"lastUpdated\": \"2024-01-16T19:31:31.143+00:00\"\n    },\n    \"type\": \"searchset\",\n    \"total\": 1,\n    \"link\": [\n        {\n            \"relation\": \"self\",\n            \"url\": \"https://gw.interop.community/HeliosConnectathonSa/open/MedicationAdministration?code=2671695&patient=101h\"\n        }\n    ],\n    \"entry\": [\n        {\n            \"fullUrl\": \"https://gw.interop.community/HeliosConnectathonSa/open/MedicationAdministration/123M\",\n            \"resource\": {\n                \"resourceType\": \"MedicationAdministration\",\n                \"id\": \"123M\",\n                \"meta\": {\n                    \"versionId\": \"1\",\n                    \"lastUpdated\": \"2024-01-16T15:15:04.000+00:00\",\n                    \"source\": \"#Zb5pCzy4r8r4yS6a\"\n                },\n                \"text\": {\n                    \"status\": \"generated\",\n                    \"div\": \"<div xmlns=\\\"http://www.w3.org/1999/xhtml\\\">This is a simple narrative with only plain text</div>\"\n                },\n                \"extension\": [\n                    {\n                        \"url\": \"http://mihin.org/extension/copyright\",\n                        \"valueString\": \"Copyright 2014-2023 Michigan Health Information Network Shared Services. Licensed under the Apache License, Version 2.0 (the 'License'); you may not use this file except in compliance with the License. You may obtain a copy of the License at  http://www.apache.org/licenses/LICENSE-2.0.  Unless required by applicable law or agreed to in writing, software distributed under the License is distributed on an 'AS IS' BASIS, WITHOUT WARRANTIES OR CONDITIONS OF ANY KIND, either express or implied. See the License for the specific language governing permissions and limitations under the License.\"\n                    }\n                ],\n                \"status\": \"completed\",\n                \"medicationCodeableConcept\": {\n                    \"coding\": [\n                        {\n                            \"system\": \"http://www.nlm.nih.gov/research/umls/rxnorm\",\n                            \"code\": \"2671695\",\n                            \"display\": \"penicillin G benzathine 2400000 UNT Injection\"\n                        },\n                        {\n                            \"display\": \"penicillin G benzathine 2400000 UNT Injection\"\n                        }\n                    ]\n                },\n                \"subject\": {\n                    \"reference\": \"Patient/101H\",\n                    \"display\": \"Veronica Blackstone\"\n                },\n                \"effectivePeriod\": {\n                    \"start\": \"2023-12-15T15:47:03-05:00\",\n                    \"end\": \"2023-12-15T15:47:03-05:00\"\n                },\n                \"performer\": [\n                    {\n                        \"actor\": {\n                            \"reference\": \"Practitioner/102H\",\n                            \"display\": \"Susan Miller MD\"\n                        }\n                    }\n                ],\n                \"request\": {\n                    \"reference\": \"MedicationRequest/122M\",\n                    \"display\": \"Medication order for penicillin G benzathine 2400000 UNT Injection\"\n                },\n                \"dosage\": {\n                    \"text\": \"20 Units SC before breakfast\",\n                    \"route\": {\n                        \"coding\": [\n                            {\n                                \"system\": \"http://snomed.info/sct\",\n                                \"code\": \"255559005\",\n                                \"display\": \"Intramuscular (qualifier value)\"\n                            }\n                        ]\n                    },\n                    \"dose\": {\n                        \"value\": 2400000,\n                        \"unit\": \"U\",\n                        \"system\": \"http://unitsofmeasure.org\",\n                        \"code\": \"U\"\n                    }\n                }\n            },\n            \"search\": {\n                \"mode\": \"match\"\n            }\n        }\n    ]\n}"
     },
     "execution_count": 67,
     "metadata": {},
     "output_type": "execute_result"
    }
   ],
   "source": [
    "medication_administration_results = client.search('MedicationAdministration', query_params={\n",
    "    'patient': patient['resource']['id'],\n",
    "    'code': '2671695' # penicillin\n",
    "})\n",
    "Pretty(json.dumps(medication_administration_results, indent=4))"
   ]
  },
  {
   "cell_type": "markdown",
   "source": [
    "`Observation` should have lab test results, and pregnancy status."
   ],
   "metadata": {
    "collapsed": false
   },
   "id": "2b291fb90493cce0"
  },
  {
   "cell_type": "code",
   "execution_count": 68,
   "id": "afe5cd62-6cc3-45fd-8804-8331c8baac58",
   "metadata": {
    "ExecuteTime": {
     "end_time": "2024-01-16T19:31:31.456874Z",
     "start_time": "2024-01-16T19:31:31.266580Z"
    }
   },
   "outputs": [
    {
     "data": {
      "text/plain": "{\n    \"resourceType\": \"Bundle\",\n    \"id\": \"6afc4458-516a-4f99-98ee-e81c96027d7a\",\n    \"meta\": {\n        \"lastUpdated\": \"2024-01-16T19:31:31.324+00:00\"\n    },\n    \"type\": \"searchset\",\n    \"total\": 1,\n    \"link\": [\n        {\n            \"relation\": \"self\",\n            \"url\": \"https://gw.interop.community/HeliosConnectathonSa/open/Observation?code=82810-3&patient=101h\"\n        }\n    ],\n    \"entry\": [\n        {\n            \"fullUrl\": \"https://gw.interop.community/HeliosConnectathonSa/open/Observation/115H\",\n            \"resource\": {\n                \"resourceType\": \"Observation\",\n                \"id\": \"115H\",\n                \"meta\": {\n                    \"versionId\": \"1\",\n                    \"lastUpdated\": \"2024-01-16T15:15:29.000+00:00\",\n                    \"source\": \"#VOnRCYAYZPcAXOId\"\n                },\n                \"text\": {\n                    \"status\": \"generated\",\n                    \"div\": \"<div xmlns=\\\"http://www.w3.org/1999/xhtml\\\">This is a simple narrative with only plain text</div>\"\n                },\n                \"extension\": [\n                    {\n                        \"url\": \"http://mihin.org/extension/copyright\",\n                        \"valueString\": \"Copyright 2014-2023 Michigan Health Information Network Shared Services. Licensed under the Apache License, Version 2.0 (the 'License'); you may not use this file except in compliance with the License. You may obtain a copy of the License at  http://www.apache.org/licenses/LICENSE-2.0.  Unless required by applicable law or agreed to in writing, software distributed under the License is distributed on an 'AS IS' BASIS, WITHOUT WARRANTIES OR CONDITIONS OF ANY KIND, either express or implied. See the License for the specific language governing permissions and limitations under the License.\"\n                    }\n                ],\n                \"status\": \"final\",\n                \"code\": {\n                    \"coding\": [\n                        {\n                            \"system\": \"http://loinc.org\",\n                            \"code\": \"82810-3\",\n                            \"display\": \"Pregnancy status\"\n                        }\n                    ]\n                },\n                \"subject\": {\n                    \"reference\": \"Patient/101H\",\n                    \"display\": \"Veronica Blackstone\"\n                },\n                \"effectiveDateTime\": \"2023-09-05\",\n                \"valueCodeableConcept\": {\n                    \"coding\": [\n                        {\n                            \"system\": \"http://loinc.org\",\n                            \"code\": \"LA15173-0\",\n                            \"display\": \"Pregnant\"\n                        }\n                    ]\n                }\n            },\n            \"search\": {\n                \"mode\": \"match\"\n            }\n        }\n    ]\n}"
     },
     "execution_count": 68,
     "metadata": {},
     "output_type": "execute_result"
    }
   ],
   "source": [
    "observation_search_results = client.search('Observation', query_params={\n",
    "    'patient': patient['resource']['id'],\n",
    "    'code': '82810-3' # Pregnancy status\n",
    "})\n",
    "\n",
    "Pretty(json.dumps(observation_search_results, indent=4))        "
   ]
  },
  {
   "cell_type": "markdown",
   "source": [
    "`Encounter` should have hospitalization status."
   ],
   "metadata": {
    "collapsed": false
   },
   "id": "6c15b61636068d2"
  },
  {
   "cell_type": "code",
   "execution_count": 69,
   "id": "22d72c64-24fb-40ed-ae85-e451098f30fb",
   "metadata": {
    "ExecuteTime": {
     "end_time": "2024-01-16T19:31:31.616741Z",
     "start_time": "2024-01-16T19:31:31.455507Z"
    }
   },
   "outputs": [
    {
     "data": {
      "text/plain": "{\n    \"resourceType\": \"Bundle\",\n    \"id\": \"dc2bda03-91f7-45e0-ad53-e061631fa25e\",\n    \"meta\": {\n        \"lastUpdated\": \"2024-01-16T19:31:31.490+00:00\"\n    },\n    \"type\": \"searchset\",\n    \"total\": 1,\n    \"link\": [\n        {\n            \"relation\": \"self\",\n            \"url\": \"https://gw.interop.community/HeliosConnectathonSa/open/Encounter?patient=101h\"\n        }\n    ],\n    \"entry\": [\n        {\n            \"fullUrl\": \"https://gw.interop.community/HeliosConnectathonSa/open/Encounter/106H\",\n            \"resource\": {\n                \"resourceType\": \"Encounter\",\n                \"id\": \"106H\",\n                \"meta\": {\n                    \"versionId\": \"1\",\n                    \"lastUpdated\": \"2024-01-16T15:13:00.000+00:00\",\n                    \"source\": \"#FMsZeOwElJGYmXbM\"\n                },\n                \"text\": {\n                    \"status\": \"generated\",\n                    \"div\": \"<div xmlns=\\\"http://www.w3.org/1999/xhtml\\\">This is a simple narrative with only plain text</div>\"\n                },\n                \"extension\": [\n                    {\n                        \"url\": \"http://mihin.org/extension/copyright\",\n                        \"valueString\": \"Copyright 2014-2023 Michigan Health Information Network Shared Services. Licensed under the Apache License, Version 2.0 (the 'License'); you may not use this file except in compliance with the License. You may obtain a copy of the License at  http://www.apache.org/licenses/LICENSE-2.0.  Unless required by applicable law or agreed to in writing, software distributed under the License is distributed on an 'AS IS' BASIS, WITHOUT WARRANTIES OR CONDITIONS OF ANY KIND, either express or implied. See the License for the specific language governing permissions and limitations under the License.\"\n                    }\n                ],\n                \"identifier\": [\n                    {\n                        \"system\": \"http://better.health.insurance.com/Encounter\",\n                        \"value\": \"8367c3d4c58524dc9cc40b\"\n                    }\n                ],\n                \"status\": \"in-progress\",\n                \"class\": {\n                    \"system\": \"http://terminology.hl7.org/CodeSystem/v3-ActCode\"\n                },\n                \"subject\": {\n                    \"reference\": \"Patient/101H\",\n                    \"display\": \"Veronica Blackstone\"\n                },\n                \"participant\": [\n                    {\n                        \"individual\": {\n                            \"reference\": \"Practitioner/102H\",\n                            \"display\": \"Susan Miller MD\"\n                        }\n                    }\n                ],\n                \"period\": {\n                    \"start\": \"2023-12-15T10:14:36-05:00\",\n                    \"end\": \"2023-12-15T16:07:59+00:00\"\n                },\n                \"reasonReference\": [\n                    {\n                        \"reference\": \"Condition/105H\",\n                        \"display\": \"Suspected Syphilis\"\n                    }\n                ],\n                \"serviceProvider\": {\n                    \"reference\": \"Organization/103H\",\n                    \"display\": \"Better Health Community Medical Center\"\n                }\n            },\n            \"search\": {\n                \"mode\": \"match\"\n            }\n        }\n    ]\n}"
     },
     "execution_count": 69,
     "metadata": {},
     "output_type": "execute_result"
    }
   ],
   "source": [
    "encounter_search_results = client.search('Encounter', query_params={\n",
    "    'patient': patient['resource']['id']\n",
    "})\n",
    "Pretty(json.dumps(encounter_search_results, indent=4))"
   ]
  },
  {
   "cell_type": "code",
   "outputs": [],
   "source": [
    "client.close()"
   ],
   "metadata": {
    "collapsed": false,
    "ExecuteTime": {
     "end_time": "2024-01-16T19:31:31.617217Z",
     "start_time": "2024-01-16T19:31:31.615031Z"
    }
   },
   "id": "700b058039da87f6",
   "execution_count": 70
  }
 ],
 "metadata": {
  "kernelspec": {
   "display_name": "Python 3 (ipykernel)",
   "language": "python",
   "name": "python3"
  },
  "language_info": {
   "codemirror_mode": {
    "name": "ipython",
    "version": 3
   },
   "file_extension": ".py",
   "mimetype": "text/x-python",
   "name": "python",
   "nbconvert_exporter": "python",
   "pygments_lexer": "ipython3",
   "version": "3.12.1"
  }
 },
 "nbformat": 4,
 "nbformat_minor": 5
}
