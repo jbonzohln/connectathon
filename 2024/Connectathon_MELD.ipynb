{
 "cells": [
  {
   "cell_type": "markdown",
   "id": "37ad418bf84d7f47",
   "metadata": {
    "collapsed": false,
    "jupyter": {
     "outputs_hidden": false
    }
   },
   "source": [
    "Setup dependencies and logging"
   ]
  },
  {
   "cell_type": "raw",
   "id": "eb6ee5fad3ecf246",
   "metadata": {
    "collapsed": false,
    "jupyter": {
     "outputs_hidden": false
    }
   },
   "source": [
    "pip install -q -r requirements.txt"
   ]
  },
  {
   "cell_type": "code",
   "execution_count": 1,
   "id": "ad6d1b7f-2d99-4949-893e-b17db6dbfa94",
   "metadata": {
    "ExecuteTime": {
     "end_time": "2024-01-17T16:31:17.569338Z",
     "start_time": "2024-01-17T16:31:17.561524Z"
    }
   },
   "outputs": [],
   "source": [
    "import logging\n",
    "import json\n",
    "from IPython.display import Pretty\n",
    "import urllib3\n",
    "\n",
    "from pyfhirclient.FhirClient import FhirClient\n",
    "\n",
    "logging.basicConfig()\n",
    "logging.getLogger().setLevel(logging.ERROR)\n",
    "\n",
    "# Disable the unverified HTTPS request warnings\n",
    "urllib3.disable_warnings()"
   ]
  },
  {
   "cell_type": "markdown",
   "id": "17e17588e7f168ba",
   "metadata": {
    "collapsed": false,
    "jupyter": {
     "outputs_hidden": false
    }
   },
   "source": [
    "Configure our fhir client "
   ]
  },
  {
   "cell_type": "code",
   "execution_count": 2,
   "id": "ddae87dd-b946-49f4-90c6-35b8e939dc28",
   "metadata": {
    "ExecuteTime": {
     "end_time": "2024-01-17T16:31:17.569522Z",
     "start_time": "2024-01-17T16:31:17.564470Z"
    }
   },
   "outputs": [],
   "source": [
    "def setup_fhir_client() -> FhirClient:\n",
    "    fhir_client = FhirClient(base_url='https://gw.interop.community/HeliosConnectathonSa/open/')\n",
    "    return fhir_client\n",
    "\n",
    "client = setup_fhir_client()"
   ]
  },
  {
   "cell_type": "markdown",
   "id": "e05aca05b4b57b2b",
   "metadata": {
    "collapsed": false,
    "jupyter": {
     "outputs_hidden": false
    }
   },
   "source": [
    "Search for Veronica Blackstone."
   ]
  },
  {
   "cell_type": "code",
   "execution_count": 3,
   "id": "34093991-7c01-4024-b44d-b110b3832399",
   "metadata": {
    "ExecuteTime": {
     "end_time": "2024-01-17T16:31:17.990738Z",
     "start_time": "2024-01-17T16:31:17.571778Z"
    }
   },
   "outputs": [
    {
     "data": {
      "text/plain": [
       "{\n",
       "    \"resourceType\": \"Bundle\",\n",
       "    \"id\": \"cf9709be-edcd-4d3e-993d-4749dd29f259\",\n",
       "    \"meta\": {\n",
       "        \"lastUpdated\": \"2024-01-17T16:52:02.937+00:00\"\n",
       "    },\n",
       "    \"type\": \"searchset\",\n",
       "    \"total\": 1,\n",
       "    \"link\": [\n",
       "        {\n",
       "            \"relation\": \"self\",\n",
       "            \"url\": \"https://gw.interop.community/HeliosConnectathonSa/open/Patient?family=Blackstone&given=Veronica\"\n",
       "        }\n",
       "    ],\n",
       "    \"entry\": [\n",
       "        {\n",
       "            \"fullUrl\": \"https://gw.interop.community/HeliosConnectathonSa/open/Patient/101h\",\n",
       "            \"resource\": {\n",
       "                \"resourceType\": \"Patient\",\n",
       "                \"id\": \"101h\",\n",
       "                \"meta\": {\n",
       "                    \"versionId\": \"1\",\n",
       "                    \"lastUpdated\": \"2024-01-16T15:10:12.000+00:00\",\n",
       "                    \"source\": \"#egQALPFh5OgeIPvd\",\n",
       "                    \"profile\": [\n",
       "                        \"http://hl7.org/fhir/us/core/StructureDefinition/us-core-patient\"\n",
       "                    ]\n",
       "                },\n",
       "                \"text\": {\n",
       "                    \"status\": \"generated\",\n",
       "                    \"div\": \"<div xmlns=\\\"http://www.w3.org/1999/xhtml\\\">This is a simple narrative with only plain text</div>\"\n",
       "                },\n",
       "                \"extension\": [\n",
       "                    {\n",
       "                        \"url\": \"http://mihin.org/extension/copyright\",\n",
       "                        \"valueString\": \"Copyright 2014-2023 Michigan Health Information Network Shared Services. Licensed under the Apache License, Version 2.0 (the 'License'); you may not use this file except in compliance with the License. You may obtain a copy of the License at  http://www.apache.org/licenses/LICENSE-2.0.  Unless required by applicable law or agreed to in writing, software distributed under the License is distributed on an 'AS IS' BASIS, WITHOUT WARRANTIES OR CONDITIONS OF ANY KIND, either express or implied. See the License for the specific language governing permissions and limitations under the License.\"\n",
       "                    },\n",
       "                    {\n",
       "                        \"url\": \"http://hl7.org/fhir/us/core/StructureDefinition/us-core-race\",\n",
       "                        \"extension\": [\n",
       "                            {\n",
       "                                \"url\": \"ombCategory\",\n",
       "                                \"valueCoding\": {\n",
       "                                    \"system\": \"urn:oid:2.16.840.1.113883.6.238\",\n",
       "                                    \"code\": \"2106-3\",\n",
       "                                    \"display\": \"White\"\n",
       "                                }\n",
       "                            },\n",
       "                            {\n",
       "                                \"url\": \"ombCategory\",\n",
       "                                \"valueCoding\": {\n",
       "                                    \"system\": \"urn:oid:2.16.840.1.113883.6.238\",\n",
       "                                    \"code\": \"1002-5\",\n",
       "                                    \"display\": \"American Indian or Alaska Native\"\n",
       "                                }\n",
       "                            },\n",
       "                            {\n",
       "                                \"url\": \"detailed\",\n",
       "                                \"valueCoding\": {\n",
       "                                    \"system\": \"urn:oid:2.16.840.1.113883.6.238\",\n",
       "                                    \"code\": \"1586-7\",\n",
       "                                    \"display\": \"Shoshone\"\n",
       "                                }\n",
       "                            },\n",
       "                            {\n",
       "                                \"url\": \"text\",\n",
       "                                \"valueString\": \"Mixed\"\n",
       "                            }\n",
       "                        ]\n",
       "                    },\n",
       "                    {\n",
       "                        \"url\": \"http://hl7.org/fhir/us/core/StructureDefinition/us-core-ethnicity\",\n",
       "                        \"extension\": [\n",
       "                            {\n",
       "                                \"url\": \"ombCategory\",\n",
       "                                \"valueCoding\": {\n",
       "                                    \"system\": \"urn:oid:2.16.840.1.113883.6.238\",\n",
       "                                    \"code\": \"2135-2\",\n",
       "                                    \"display\": \"Hispanic or Latino\"\n",
       "                                }\n",
       "                            },\n",
       "                            {\n",
       "                                \"url\": \"detailed\",\n",
       "                                \"valueCoding\": {\n",
       "                                    \"system\": \"urn:oid:2.16.840.1.113883.6.238\",\n",
       "                                    \"code\": \"2148-5\",\n",
       "                                    \"display\": \"Mexican\"\n",
       "                                }\n",
       "                            },\n",
       "                            {\n",
       "                                \"url\": \"text\",\n",
       "                                \"valueString\": \"Hispanic or Latino\"\n",
       "                            }\n",
       "                        ]\n",
       "                    },\n",
       "                    {\n",
       "                        \"url\": \"http://hl7.org/fhir/us/core/StructureDefinition/us-core-birthsex\",\n",
       "                        \"valueCode\": \"F\"\n",
       "                    }\n",
       "                ],\n",
       "                \"identifier\": [\n",
       "                    {\n",
       "                        \"use\": \"usual\",\n",
       "                        \"type\": {\n",
       "                            \"coding\": [\n",
       "                                {\n",
       "                                    \"system\": \"http://terminology.hl7.org/CodeSystem/v2-0203\",\n",
       "                                    \"code\": \"MR\",\n",
       "                                    \"display\": \"Medical Record Number\"\n",
       "                                }\n",
       "                            ],\n",
       "                            \"text\": \"Medical Record Number\"\n",
       "                        },\n",
       "                        \"system\": \"http://hospital.smarthealthit.org\",\n",
       "                        \"value\": \"34972316\"\n",
       "                    }\n",
       "                ],\n",
       "                \"active\": true,\n",
       "                \"name\": [\n",
       "                    {\n",
       "                        \"family\": \"Blackstone\",\n",
       "                        \"given\": [\n",
       "                            \"Veronica\",\n",
       "                            \"Anne\"\n",
       "                        ]\n",
       "                    }\n",
       "                ],\n",
       "                \"telecom\": [\n",
       "                    {\n",
       "                        \"system\": \"phone\",\n",
       "                        \"value\": \"937-379-3497\",\n",
       "                        \"use\": \"home\"\n",
       "                    },\n",
       "                    {\n",
       "                        \"system\": \"email\",\n",
       "                        \"value\": \"veronica.sawyer@example.com\"\n",
       "                    }\n",
       "                ],\n",
       "                \"gender\": \"female\",\n",
       "                \"birthDate\": \"1998-06-18\",\n",
       "                \"address\": [\n",
       "                    {\n",
       "                        \"line\": [\n",
       "                            \"120 Lucas Rd\"\n",
       "                        ],\n",
       "                        \"city\": \"Hamersville\",\n",
       "                        \"state\": \"OH\",\n",
       "                        \"postalCode\": \"45130\",\n",
       "                        \"country\": \"US\"\n",
       "                    }\n",
       "                ]\n",
       "            },\n",
       "            \"search\": {\n",
       "                \"mode\": \"match\"\n",
       "            }\n",
       "        }\n",
       "    ]\n",
       "}"
      ]
     },
     "execution_count": 3,
     "metadata": {},
     "output_type": "execute_result"
    }
   ],
   "source": [
    "search_results = client.search('Patient', {\n",
    "    'family': 'Blackstone',\n",
    "    'given': 'Veronica'\n",
    "})\n",
    "\n",
    "Pretty(json.dumps(search_results, indent=4))"
   ]
  },
  {
   "cell_type": "markdown",
   "id": "67ff53180d9d8061",
   "metadata": {
    "collapsed": false,
    "jupyter": {
     "outputs_hidden": false
    }
   },
   "source": [
    "Use the first result as our Patient"
   ]
  },
  {
   "cell_type": "code",
   "execution_count": 4,
   "id": "b70e48db58013b82",
   "metadata": {
    "ExecuteTime": {
     "end_time": "2024-01-17T16:31:17.994209Z",
     "start_time": "2024-01-17T16:31:17.990616Z"
    },
    "collapsed": false,
    "jupyter": {
     "outputs_hidden": false
    }
   },
   "outputs": [
    {
     "data": {
      "text/plain": [
       "{\n",
       "    \"fullUrl\": \"https://gw.interop.community/HeliosConnectathonSa/open/Patient/101h\",\n",
       "    \"resource\": {\n",
       "        \"resourceType\": \"Patient\",\n",
       "        \"id\": \"101h\",\n",
       "        \"meta\": {\n",
       "            \"versionId\": \"1\",\n",
       "            \"lastUpdated\": \"2024-01-16T15:10:12.000+00:00\",\n",
       "            \"source\": \"#egQALPFh5OgeIPvd\",\n",
       "            \"profile\": [\n",
       "                \"http://hl7.org/fhir/us/core/StructureDefinition/us-core-patient\"\n",
       "            ]\n",
       "        },\n",
       "        \"text\": {\n",
       "            \"status\": \"generated\",\n",
       "            \"div\": \"<div xmlns=\\\"http://www.w3.org/1999/xhtml\\\">This is a simple narrative with only plain text</div>\"\n",
       "        },\n",
       "        \"extension\": [\n",
       "            {\n",
       "                \"url\": \"http://mihin.org/extension/copyright\",\n",
       "                \"valueString\": \"Copyright 2014-2023 Michigan Health Information Network Shared Services. Licensed under the Apache License, Version 2.0 (the 'License'); you may not use this file except in compliance with the License. You may obtain a copy of the License at  http://www.apache.org/licenses/LICENSE-2.0.  Unless required by applicable law or agreed to in writing, software distributed under the License is distributed on an 'AS IS' BASIS, WITHOUT WARRANTIES OR CONDITIONS OF ANY KIND, either express or implied. See the License for the specific language governing permissions and limitations under the License.\"\n",
       "            },\n",
       "            {\n",
       "                \"url\": \"http://hl7.org/fhir/us/core/StructureDefinition/us-core-race\",\n",
       "                \"extension\": [\n",
       "                    {\n",
       "                        \"url\": \"ombCategory\",\n",
       "                        \"valueCoding\": {\n",
       "                            \"system\": \"urn:oid:2.16.840.1.113883.6.238\",\n",
       "                            \"code\": \"2106-3\",\n",
       "                            \"display\": \"White\"\n",
       "                        }\n",
       "                    },\n",
       "                    {\n",
       "                        \"url\": \"ombCategory\",\n",
       "                        \"valueCoding\": {\n",
       "                            \"system\": \"urn:oid:2.16.840.1.113883.6.238\",\n",
       "                            \"code\": \"1002-5\",\n",
       "                            \"display\": \"American Indian or Alaska Native\"\n",
       "                        }\n",
       "                    },\n",
       "                    {\n",
       "                        \"url\": \"detailed\",\n",
       "                        \"valueCoding\": {\n",
       "                            \"system\": \"urn:oid:2.16.840.1.113883.6.238\",\n",
       "                            \"code\": \"1586-7\",\n",
       "                            \"display\": \"Shoshone\"\n",
       "                        }\n",
       "                    },\n",
       "                    {\n",
       "                        \"url\": \"text\",\n",
       "                        \"valueString\": \"Mixed\"\n",
       "                    }\n",
       "                ]\n",
       "            },\n",
       "            {\n",
       "                \"url\": \"http://hl7.org/fhir/us/core/StructureDefinition/us-core-ethnicity\",\n",
       "                \"extension\": [\n",
       "                    {\n",
       "                        \"url\": \"ombCategory\",\n",
       "                        \"valueCoding\": {\n",
       "                            \"system\": \"urn:oid:2.16.840.1.113883.6.238\",\n",
       "                            \"code\": \"2135-2\",\n",
       "                            \"display\": \"Hispanic or Latino\"\n",
       "                        }\n",
       "                    },\n",
       "                    {\n",
       "                        \"url\": \"detailed\",\n",
       "                        \"valueCoding\": {\n",
       "                            \"system\": \"urn:oid:2.16.840.1.113883.6.238\",\n",
       "                            \"code\": \"2148-5\",\n",
       "                            \"display\": \"Mexican\"\n",
       "                        }\n",
       "                    },\n",
       "                    {\n",
       "                        \"url\": \"text\",\n",
       "                        \"valueString\": \"Hispanic or Latino\"\n",
       "                    }\n",
       "                ]\n",
       "            },\n",
       "            {\n",
       "                \"url\": \"http://hl7.org/fhir/us/core/StructureDefinition/us-core-birthsex\",\n",
       "                \"valueCode\": \"F\"\n",
       "            }\n",
       "        ],\n",
       "        \"identifier\": [\n",
       "            {\n",
       "                \"use\": \"usual\",\n",
       "                \"type\": {\n",
       "                    \"coding\": [\n",
       "                        {\n",
       "                            \"system\": \"http://terminology.hl7.org/CodeSystem/v2-0203\",\n",
       "                            \"code\": \"MR\",\n",
       "                            \"display\": \"Medical Record Number\"\n",
       "                        }\n",
       "                    ],\n",
       "                    \"text\": \"Medical Record Number\"\n",
       "                },\n",
       "                \"system\": \"http://hospital.smarthealthit.org\",\n",
       "                \"value\": \"34972316\"\n",
       "            }\n",
       "        ],\n",
       "        \"active\": true,\n",
       "        \"name\": [\n",
       "            {\n",
       "                \"family\": \"Blackstone\",\n",
       "                \"given\": [\n",
       "                    \"Veronica\",\n",
       "                    \"Anne\"\n",
       "                ]\n",
       "            }\n",
       "        ],\n",
       "        \"telecom\": [\n",
       "            {\n",
       "                \"system\": \"phone\",\n",
       "                \"value\": \"937-379-3497\",\n",
       "                \"use\": \"home\"\n",
       "            },\n",
       "            {\n",
       "                \"system\": \"email\",\n",
       "                \"value\": \"veronica.sawyer@example.com\"\n",
       "            }\n",
       "        ],\n",
       "        \"gender\": \"female\",\n",
       "        \"birthDate\": \"1998-06-18\",\n",
       "        \"address\": [\n",
       "            {\n",
       "                \"line\": [\n",
       "                    \"120 Lucas Rd\"\n",
       "                ],\n",
       "                \"city\": \"Hamersville\",\n",
       "                \"state\": \"OH\",\n",
       "                \"postalCode\": \"45130\",\n",
       "                \"country\": \"US\"\n",
       "            }\n",
       "        ]\n",
       "    },\n",
       "    \"search\": {\n",
       "        \"mode\": \"match\"\n",
       "    }\n",
       "}"
      ]
     },
     "execution_count": 4,
     "metadata": {},
     "output_type": "execute_result"
    }
   ],
   "source": [
    "patient = search_results['entry'][0]\n",
    "patient_id = patient['resource']['id']\n",
    "Pretty(json.dumps(patient, indent=4))"
   ]
  },
  {
   "cell_type": "markdown",
   "id": "8020313fe2b60cb8",
   "metadata": {
    "collapsed": false,
    "jupyter": {
     "outputs_hidden": false
    }
   },
   "source": [
    "Search for administration of penicillin to this Patient"
   ]
  },
  {
   "cell_type": "code",
   "execution_count": 5,
   "id": "52d167dc-37ed-4c92-9cb1-6b6863cac112",
   "metadata": {
    "ExecuteTime": {
     "end_time": "2024-01-17T16:31:18.172703Z",
     "start_time": "2024-01-17T16:31:17.994319Z"
    }
   },
   "outputs": [
    {
     "data": {
      "text/plain": [
       "{\n",
       "    \"resourceType\": \"Bundle\",\n",
       "    \"id\": \"44d8e45c-dc1b-4d38-b10d-c5565b9b031d\",\n",
       "    \"meta\": {\n",
       "        \"lastUpdated\": \"2024-01-17T16:52:03.151+00:00\"\n",
       "    },\n",
       "    \"type\": \"searchset\",\n",
       "    \"total\": 1,\n",
       "    \"link\": [\n",
       "        {\n",
       "            \"relation\": \"self\",\n",
       "            \"url\": \"https://gw.interop.community/HeliosConnectathonSa/open/MedicationAdministration?code=2671695&patient=101h\"\n",
       "        }\n",
       "    ],\n",
       "    \"entry\": [\n",
       "        {\n",
       "            \"fullUrl\": \"https://gw.interop.community/HeliosConnectathonSa/open/MedicationAdministration/123M\",\n",
       "            \"resource\": {\n",
       "                \"resourceType\": \"MedicationAdministration\",\n",
       "                \"id\": \"123M\",\n",
       "                \"meta\": {\n",
       "                    \"versionId\": \"1\",\n",
       "                    \"lastUpdated\": \"2024-01-16T15:15:04.000+00:00\",\n",
       "                    \"source\": \"#Zb5pCzy4r8r4yS6a\"\n",
       "                },\n",
       "                \"text\": {\n",
       "                    \"status\": \"generated\",\n",
       "                    \"div\": \"<div xmlns=\\\"http://www.w3.org/1999/xhtml\\\">This is a simple narrative with only plain text</div>\"\n",
       "                },\n",
       "                \"extension\": [\n",
       "                    {\n",
       "                        \"url\": \"http://mihin.org/extension/copyright\",\n",
       "                        \"valueString\": \"Copyright 2014-2023 Michigan Health Information Network Shared Services. Licensed under the Apache License, Version 2.0 (the 'License'); you may not use this file except in compliance with the License. You may obtain a copy of the License at  http://www.apache.org/licenses/LICENSE-2.0.  Unless required by applicable law or agreed to in writing, software distributed under the License is distributed on an 'AS IS' BASIS, WITHOUT WARRANTIES OR CONDITIONS OF ANY KIND, either express or implied. See the License for the specific language governing permissions and limitations under the License.\"\n",
       "                    }\n",
       "                ],\n",
       "                \"status\": \"completed\",\n",
       "                \"medicationCodeableConcept\": {\n",
       "                    \"coding\": [\n",
       "                        {\n",
       "                            \"system\": \"http://www.nlm.nih.gov/research/umls/rxnorm\",\n",
       "                            \"code\": \"2671695\",\n",
       "                            \"display\": \"penicillin G benzathine 2400000 UNT Injection\"\n",
       "                        },\n",
       "                        {\n",
       "                            \"display\": \"penicillin G benzathine 2400000 UNT Injection\"\n",
       "                        }\n",
       "                    ]\n",
       "                },\n",
       "                \"subject\": {\n",
       "                    \"reference\": \"Patient/101H\",\n",
       "                    \"display\": \"Veronica Blackstone\"\n",
       "                },\n",
       "                \"effectivePeriod\": {\n",
       "                    \"start\": \"2023-12-15T15:47:03-05:00\",\n",
       "                    \"end\": \"2023-12-15T15:47:03-05:00\"\n",
       "                },\n",
       "                \"performer\": [\n",
       "                    {\n",
       "                        \"actor\": {\n",
       "                            \"reference\": \"Practitioner/102H\",\n",
       "                            \"display\": \"Susan Miller MD\"\n",
       "                        }\n",
       "                    }\n",
       "                ],\n",
       "                \"request\": {\n",
       "                    \"reference\": \"MedicationRequest/122M\",\n",
       "                    \"display\": \"Medication order for penicillin G benzathine 2400000 UNT Injection\"\n",
       "                },\n",
       "                \"dosage\": {\n",
       "                    \"text\": \"20 Units SC before breakfast\",\n",
       "                    \"route\": {\n",
       "                        \"coding\": [\n",
       "                            {\n",
       "                                \"system\": \"http://snomed.info/sct\",\n",
       "                                \"code\": \"255559005\",\n",
       "                                \"display\": \"Intramuscular (qualifier value)\"\n",
       "                            }\n",
       "                        ]\n",
       "                    },\n",
       "                    \"dose\": {\n",
       "                        \"value\": 2400000,\n",
       "                        \"unit\": \"U\",\n",
       "                        \"system\": \"http://unitsofmeasure.org\",\n",
       "                        \"code\": \"U\"\n",
       "                    }\n",
       "                }\n",
       "            },\n",
       "            \"search\": {\n",
       "                \"mode\": \"match\"\n",
       "            }\n",
       "        }\n",
       "    ]\n",
       "}"
      ]
     },
     "execution_count": 5,
     "metadata": {},
     "output_type": "execute_result"
    }
   ],
   "source": [
    "medication_administration_results = client.search('MedicationAdministration', query_params={\n",
    "    'patient': patient_id,\n",
    "    'code': '2671695' # penicillin\n",
    "})\n",
    "Pretty(json.dumps(medication_administration_results, indent=4))"
   ]
  },
  {
   "cell_type": "markdown",
   "id": "f3d55beae08f905f",
   "metadata": {
    "collapsed": false,
    "jupyter": {
     "outputs_hidden": false
    }
   },
   "source": [
    "Search for pregnancy observations for this Patient"
   ]
  },
  {
   "cell_type": "code",
   "execution_count": 6,
   "id": "afe5cd62-6cc3-45fd-8804-8331c8baac58",
   "metadata": {
    "ExecuteTime": {
     "end_time": "2024-01-17T16:31:18.326550Z",
     "start_time": "2024-01-17T16:31:18.172799Z"
    }
   },
   "outputs": [
    {
     "data": {
      "text/plain": [
       "{\n",
       "    \"resourceType\": \"Bundle\",\n",
       "    \"id\": \"56f065b0-6a02-42a3-a623-992c15dcf0fa\",\n",
       "    \"meta\": {\n",
       "        \"lastUpdated\": \"2024-01-17T16:52:03.342+00:00\"\n",
       "    },\n",
       "    \"type\": \"searchset\",\n",
       "    \"total\": 1,\n",
       "    \"link\": [\n",
       "        {\n",
       "            \"relation\": \"self\",\n",
       "            \"url\": \"https://gw.interop.community/HeliosConnectathonSa/open/Observation?code=82810-3&patient=101h\"\n",
       "        }\n",
       "    ],\n",
       "    \"entry\": [\n",
       "        {\n",
       "            \"fullUrl\": \"https://gw.interop.community/HeliosConnectathonSa/open/Observation/115H\",\n",
       "            \"resource\": {\n",
       "                \"resourceType\": \"Observation\",\n",
       "                \"id\": \"115H\",\n",
       "                \"meta\": {\n",
       "                    \"versionId\": \"1\",\n",
       "                    \"lastUpdated\": \"2024-01-16T15:15:29.000+00:00\",\n",
       "                    \"source\": \"#VOnRCYAYZPcAXOId\"\n",
       "                },\n",
       "                \"text\": {\n",
       "                    \"status\": \"generated\",\n",
       "                    \"div\": \"<div xmlns=\\\"http://www.w3.org/1999/xhtml\\\">This is a simple narrative with only plain text</div>\"\n",
       "                },\n",
       "                \"extension\": [\n",
       "                    {\n",
       "                        \"url\": \"http://mihin.org/extension/copyright\",\n",
       "                        \"valueString\": \"Copyright 2014-2023 Michigan Health Information Network Shared Services. Licensed under the Apache License, Version 2.0 (the 'License'); you may not use this file except in compliance with the License. You may obtain a copy of the License at  http://www.apache.org/licenses/LICENSE-2.0.  Unless required by applicable law or agreed to in writing, software distributed under the License is distributed on an 'AS IS' BASIS, WITHOUT WARRANTIES OR CONDITIONS OF ANY KIND, either express or implied. See the License for the specific language governing permissions and limitations under the License.\"\n",
       "                    }\n",
       "                ],\n",
       "                \"status\": \"final\",\n",
       "                \"code\": {\n",
       "                    \"coding\": [\n",
       "                        {\n",
       "                            \"system\": \"http://loinc.org\",\n",
       "                            \"code\": \"82810-3\",\n",
       "                            \"display\": \"Pregnancy status\"\n",
       "                        }\n",
       "                    ]\n",
       "                },\n",
       "                \"subject\": {\n",
       "                    \"reference\": \"Patient/101H\",\n",
       "                    \"display\": \"Veronica Blackstone\"\n",
       "                },\n",
       "                \"effectiveDateTime\": \"2023-09-05\",\n",
       "                \"valueCodeableConcept\": {\n",
       "                    \"coding\": [\n",
       "                        {\n",
       "                            \"system\": \"http://loinc.org\",\n",
       "                            \"code\": \"LA15173-0\",\n",
       "                            \"display\": \"Pregnant\"\n",
       "                        }\n",
       "                    ]\n",
       "                }\n",
       "            },\n",
       "            \"search\": {\n",
       "                \"mode\": \"match\"\n",
       "            }\n",
       "        }\n",
       "    ]\n",
       "}"
      ]
     },
     "execution_count": 6,
     "metadata": {},
     "output_type": "execute_result"
    }
   ],
   "source": [
    "observation_search_results = client.search('Observation', query_params={\n",
    "    'patient': patient_id,\n",
    "    'code': '82810-3' # Pregnancy status\n",
    "})\n",
    "\n",
    "Pretty(json.dumps(observation_search_results, indent=4))        "
   ]
  },
  {
   "cell_type": "markdown",
   "id": "280739d538993908",
   "metadata": {
    "collapsed": false,
    "jupyter": {
     "outputs_hidden": false
    }
   },
   "source": [
    "Retrieve all encounters for this Patient"
   ]
  },
  {
   "cell_type": "code",
   "execution_count": 7,
   "id": "22d72c64-24fb-40ed-ae85-e451098f30fb",
   "metadata": {
    "ExecuteTime": {
     "end_time": "2024-01-17T16:31:18.486599Z",
     "start_time": "2024-01-17T16:31:18.326054Z"
    }
   },
   "outputs": [
    {
     "data": {
      "text/plain": [
       "{\n",
       "    \"resourceType\": \"Bundle\",\n",
       "    \"id\": \"7c2bf76d-f1c0-462e-8252-deb5f01f8086\",\n",
       "    \"meta\": {\n",
       "        \"lastUpdated\": \"2024-01-17T16:52:03.541+00:00\"\n",
       "    },\n",
       "    \"type\": \"searchset\",\n",
       "    \"total\": 1,\n",
       "    \"link\": [\n",
       "        {\n",
       "            \"relation\": \"self\",\n",
       "            \"url\": \"https://gw.interop.community/HeliosConnectathonSa/open/Encounter?patient=101h\"\n",
       "        }\n",
       "    ],\n",
       "    \"entry\": [\n",
       "        {\n",
       "            \"fullUrl\": \"https://gw.interop.community/HeliosConnectathonSa/open/Encounter/106H\",\n",
       "            \"resource\": {\n",
       "                \"resourceType\": \"Encounter\",\n",
       "                \"id\": \"106H\",\n",
       "                \"meta\": {\n",
       "                    \"versionId\": \"1\",\n",
       "                    \"lastUpdated\": \"2024-01-16T15:13:00.000+00:00\",\n",
       "                    \"source\": \"#FMsZeOwElJGYmXbM\"\n",
       "                },\n",
       "                \"text\": {\n",
       "                    \"status\": \"generated\",\n",
       "                    \"div\": \"<div xmlns=\\\"http://www.w3.org/1999/xhtml\\\">This is a simple narrative with only plain text</div>\"\n",
       "                },\n",
       "                \"extension\": [\n",
       "                    {\n",
       "                        \"url\": \"http://mihin.org/extension/copyright\",\n",
       "                        \"valueString\": \"Copyright 2014-2023 Michigan Health Information Network Shared Services. Licensed under the Apache License, Version 2.0 (the 'License'); you may not use this file except in compliance with the License. You may obtain a copy of the License at  http://www.apache.org/licenses/LICENSE-2.0.  Unless required by applicable law or agreed to in writing, software distributed under the License is distributed on an 'AS IS' BASIS, WITHOUT WARRANTIES OR CONDITIONS OF ANY KIND, either express or implied. See the License for the specific language governing permissions and limitations under the License.\"\n",
       "                    }\n",
       "                ],\n",
       "                \"identifier\": [\n",
       "                    {\n",
       "                        \"system\": \"http://better.health.insurance.com/Encounter\",\n",
       "                        \"value\": \"8367c3d4c58524dc9cc40b\"\n",
       "                    }\n",
       "                ],\n",
       "                \"status\": \"in-progress\",\n",
       "                \"class\": {\n",
       "                    \"system\": \"http://terminology.hl7.org/CodeSystem/v3-ActCode\"\n",
       "                },\n",
       "                \"subject\": {\n",
       "                    \"reference\": \"Patient/101H\",\n",
       "                    \"display\": \"Veronica Blackstone\"\n",
       "                },\n",
       "                \"participant\": [\n",
       "                    {\n",
       "                        \"individual\": {\n",
       "                            \"reference\": \"Practitioner/102H\",\n",
       "                            \"display\": \"Susan Miller MD\"\n",
       "                        }\n",
       "                    }\n",
       "                ],\n",
       "                \"period\": {\n",
       "                    \"start\": \"2023-12-15T10:14:36-05:00\",\n",
       "                    \"end\": \"2023-12-15T16:07:59+00:00\"\n",
       "                },\n",
       "                \"reasonReference\": [\n",
       "                    {\n",
       "                        \"reference\": \"Condition/105H\",\n",
       "                        \"display\": \"Suspected Syphilis\"\n",
       "                    }\n",
       "                ],\n",
       "                \"serviceProvider\": {\n",
       "                    \"reference\": \"Organization/103H\",\n",
       "                    \"display\": \"Better Health Community Medical Center\"\n",
       "                }\n",
       "            },\n",
       "            \"search\": {\n",
       "                \"mode\": \"match\"\n",
       "            }\n",
       "        }\n",
       "    ]\n",
       "}"
      ]
     },
     "execution_count": 7,
     "metadata": {},
     "output_type": "execute_result"
    }
   ],
   "source": [
    "encounter_search_results = client.search('Encounter', query_params={\n",
    "    'patient': patient_id\n",
    "})\n",
    "Pretty(json.dumps(encounter_search_results, indent=4))"
   ]
  },
  {
   "cell_type": "code",
   "execution_count": 8,
   "id": "700b058039da87f6",
   "metadata": {
    "ExecuteTime": {
     "end_time": "2024-01-17T16:31:18.489097Z",
     "start_time": "2024-01-17T16:31:18.485901Z"
    },
    "collapsed": false,
    "jupyter": {
     "outputs_hidden": false
    }
   },
   "outputs": [],
   "source": [
    "client.close()"
   ]
  }
 ],
 "metadata": {
  "kernelspec": {
   "display_name": "Python 3 (ipykernel)",
   "language": "python",
   "name": "python3"
  },
  "language_info": {
   "codemirror_mode": {
    "name": "ipython",
    "version": 3
   },
   "file_extension": ".py",
   "mimetype": "text/x-python",
   "name": "python",
   "nbconvert_exporter": "python",
   "pygments_lexer": "ipython3",
   "version": "3.12.0"
  }
 },
 "nbformat": 4,
 "nbformat_minor": 5
}
