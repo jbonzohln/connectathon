{
 "cells": [
  {
   "cell_type": "code",
   "outputs": [],
   "source": [
    "pip install -q -r requirements.txt"
   ],
   "metadata": {
    "collapsed": false
   },
   "id": "68306f0fdcc65efc"
  },
  {
   "cell_type": "code",
   "execution_count": 1,
   "id": "ad6d1b7f-2d99-4949-893e-b17db6dbfa94",
   "metadata": {},
   "outputs": [],
   "source": [
    "import logging\n",
    "import json\n",
    "from IPython.display import Pretty, HTML\n",
    "import urllib3\n",
    "\n",
    "from pyfhirclient.FhirClient import FhirClient\n",
    "\n",
    "logging.basicConfig()\n",
    "logging.getLogger().setLevel(logging.ERROR)\n",
    "\n",
    "# Disable the unverified HTTPS request warnings\n",
    "urllib3.disable_warnings()"
   ]
  },
  {
   "cell_type": "code",
   "execution_count": 2,
   "id": "ddae87dd-b946-49f4-90c6-35b8e939dc28",
   "metadata": {},
   "outputs": [],
   "source": [
    "def setup_fhir_client() -> FhirClient:\n",
    "    fhir_client = FhirClient(\n",
    "        base_url='https://concept01.ehealthexchange.org:52780/fhirproxy/r4/',\n",
    "        verify_ssl=False,\n",
    "        extra_headers={\n",
    "            'X-DESTINATION': 'OpenEpic',\n",
    "            'X-POU': 'TREAT',\n",
    "            'Host': 'concept01.ehealthexchange.org:52780'\n",
    "        })\n",
    "\n",
    "    fhir_client.auth_type = 'Basic'\n",
    "    fhir_client.token = 'c3ZjX2VIeEZISVJTYW5kYm94OndpbGxmdWxTdHJvbmdTdGFuZHVyZDc'\n",
    "\n",
    "    return fhir_client"
   ]
  },
  {
   "cell_type": "code",
   "execution_count": 6,
   "id": "34093991-7c01-4024-b44d-b110b3832399",
   "metadata": {},
   "outputs": [
    {
     "data": {
      "text/plain": [
       "{\n",
       "    \"resourceType\": \"Bundle\",\n",
       "    \"type\": \"searchset\",\n",
       "    \"total\": 0,\n",
       "    \"link\": [\n",
       "        {\n",
       "            \"relation\": \"self\",\n",
       "            \"url\": \"https://fhir.epic.com/interconnect-fhir-oauth/api/FHIR/R4/Patient?gender=male\"\n",
       "        }\n",
       "    ],\n",
       "    \"entry\": [\n",
       "        {\n",
       "            \"fullUrl\": \"https://concept01.ehealthexchange.org:52780/fhirproxy/r4\",\n",
       "            \"resource\": {\n",
       "                \"resourceType\": \"OperationOutcome\",\n",
       "                \"issue\": [\n",
       "                    {\n",
       "                        \"severity\": \"warning\",\n",
       "                        \"code\": \"processing\",\n",
       "                        \"details\": {\n",
       "                            \"coding\": [\n",
       "                                {\n",
       "                                    \"system\": \"urn:oid:1.2.840.114350.1.13.0.1.7.2.657369\",\n",
       "                                    \"code\": \"4101\",\n",
       "                                    \"display\": \"Resource request returns no results.\"\n",
       "                                }\n",
       "                            ],\n",
       "                            \"text\": \"Resource request returns no results.\"\n",
       "                        }\n",
       "                    }\n",
       "                ],\n",
       "                \"identifier\": [\n",
       "                    {\n",
       "                        \"use\": \"usual\",\n",
       "                        \"type\": {\n",
       "                            \"text\": \"Target responder resource fullUrl\"\n",
       "                        },\n",
       "                        \"system\": \"https://ehealthexchange.org/hub/internal/targetResponderFullUrl\",\n",
       "                        \"value\": \"urn:uuid:6e8a379d-2896-4d51-ae61-0378ecf45f43\"\n",
       "                    }\n",
       "                ]\n",
       "            },\n",
       "            \"search\": {\n",
       "                \"mode\": \"outcome\"\n",
       "            }\n",
       "        }\n",
       "    ]\n",
       "}"
      ]
     },
     "execution_count": 6,
     "metadata": {},
     "output_type": "execute_result"
    }
   ],
   "source": [
    "client = setup_fhir_client()\n",
    "\n",
    "search_results = client.search('Patient', {\n",
    "    'gender': 'male'\n",
    "})\n",
    "Pretty(json.dumps(search_results, indent=4))"
   ]
  },
  {
   "cell_type": "code",
   "execution_count": 5,
   "id": "b70e48db58013b82",
   "metadata": {
    "collapsed": false
   },
   "outputs": [
    {
     "data": {
      "text/plain": [
       "{\n",
       "    \"fullUrl\": \"https://concept01.ehealthexchange.org:52780/fhirproxy/r4\",\n",
       "    \"resource\": {\n",
       "        \"resourceType\": \"OperationOutcome\",\n",
       "        \"issue\": [\n",
       "            {\n",
       "                \"severity\": \"warning\",\n",
       "                \"code\": \"processing\",\n",
       "                \"details\": {\n",
       "                    \"coding\": [\n",
       "                        {\n",
       "                            \"system\": \"urn:oid:1.2.840.114350.1.13.0.1.7.2.657369\",\n",
       "                            \"code\": \"4101\",\n",
       "                            \"display\": \"Resource request returns no results.\"\n",
       "                        }\n",
       "                    ],\n",
       "                    \"text\": \"Resource request returns no results.\"\n",
       "                }\n",
       "            }\n",
       "        ],\n",
       "        \"identifier\": [\n",
       "            {\n",
       "                \"use\": \"usual\",\n",
       "                \"type\": {\n",
       "                    \"text\": \"Target responder resource fullUrl\"\n",
       "                },\n",
       "                \"system\": \"https://ehealthexchange.org/hub/internal/targetResponderFullUrl\",\n",
       "                \"value\": \"urn:uuid:836be63c-5666-4bb4-b5e8-76e1c5fbb508\"\n",
       "            }\n",
       "        ]\n",
       "    },\n",
       "    \"search\": {\n",
       "        \"mode\": \"outcome\"\n",
       "    }\n",
       "}"
      ]
     },
     "execution_count": 5,
     "metadata": {},
     "output_type": "execute_result"
    }
   ],
   "source": [
    "## TODO: No results are returned\n",
    "patient = search_results['entry'][0]\n",
    "patient_id = patient['resource']['id']\n",
    "Pretty(json.dumps(patient, indent=4))"
   ]
  },
  {
   "cell_type": "code",
   "execution_count": null,
   "id": "96985a07-c25a-4078-afd7-eab7e46edba9",
   "metadata": {},
   "outputs": [],
   "source": [
    "HTML(patient['resource']['text']['div'])"
   ]
  },
  {
   "cell_type": "code",
   "execution_count": null,
   "id": "3e26e4d2d0a01080",
   "metadata": {
    "collapsed": false
   },
   "outputs": [],
   "source": [
    "everything = client.everything('Patient', patient_id)\n",
    "Pretty(json.dumps(everything, indent=4))"
   ]
  },
  {
   "cell_type": "code",
   "execution_count": null,
   "id": "52d167dc-37ed-4c92-9cb1-6b6863cac112",
   "metadata": {},
   "outputs": [],
   "source": [
    "medication_administration_results = client.search('MedicationAdministration', query_params={\n",
    "    'patient': patient_id\n",
    "})\n",
    "Pretty(json.dumps(medication_administration_results, indent=4))"
   ]
  },
  {
   "cell_type": "code",
   "execution_count": null,
   "id": "afe5cd62-6cc3-45fd-8804-8331c8baac58",
   "metadata": {},
   "outputs": [],
   "source": [
    "observation_search_results = client.search('Observation', query_params={\n",
    "    'patient': patient_id\n",
    "    'code': '76272004'\n",
    "})\n",
    "\n",
    "Pretty(json.dumps(observation_search_results, indent=4))        "
   ]
  },
  {
   "cell_type": "code",
   "execution_count": null,
   "id": "22d72c64-24fb-40ed-ae85-e451098f30fb",
   "metadata": {},
   "outputs": [],
   "source": [
    "encounter_search_results = client.search('Encounter', query_params={\n",
    "    'patient': patient_id\n",
    "})\n",
    "Pretty(json.dumps(encounter_search_results, indent=4))"
   ]
  },
  {
   "cell_type": "code",
   "execution_count": null,
   "id": "700b058039da87f6",
   "metadata": {
    "collapsed": false
   },
   "outputs": [],
   "source": [
    "client.close()"
   ]
  }
 ],
 "metadata": {
  "kernelspec": {
   "display_name": "Python 3 (ipykernel)",
   "language": "python",
   "name": "python3"
  },
  "language_info": {
   "codemirror_mode": {
    "name": "ipython",
    "version": 3
   },
   "file_extension": ".py",
   "mimetype": "text/x-python",
   "name": "python",
   "nbconvert_exporter": "python",
   "pygments_lexer": "ipython3",
   "version": "3.12.0"
  }
 },
 "nbformat": 4,
 "nbformat_minor": 5
}
