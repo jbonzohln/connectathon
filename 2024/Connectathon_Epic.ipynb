{
 "cells": [
  {
   "cell_type": "markdown",
   "id": "1f0ba6e7-f030-44cb-8cd9-72173d664391",
   "metadata": {},
   "source": [
    "Setup dependencies and logging"
   ]
  },
  {
   "cell_type": "code",
   "outputs": [],
   "source": [
    "pip install -q -r requirements.txt"
   ],
   "metadata": {
    "collapsed": false
   },
   "id": "7ca614fd955ae252"
  },
  {
   "cell_type": "code",
   "execution_count": 1,
   "id": "ad6d1b7f-2d99-4949-893e-b17db6dbfa94",
   "metadata": {},
   "outputs": [],
   "source": [
    "import logging\n",
    "import json\n",
    "from IPython.display import Pretty, HTML\n",
    "import urllib3\n",
    "\n",
    "from pyfhirclient.FhirClient import FhirClient\n",
    "\n",
    "logging.basicConfig()\n",
    "logging.getLogger().setLevel(logging.ERROR)\n",
    "\n",
    "# Disable the unverified HTTPS request warnings\n",
    "urllib3.disable_warnings()"
   ]
  },
  {
   "cell_type": "code",
   "execution_count": 2,
   "id": "ddae87dd-b946-49f4-90c6-35b8e939dc28",
   "metadata": {
    "collapsed": false
   },
   "outputs": [],
   "source": [
    "def setup_fhir_client() -> FhirClient:\n",
    "    fhir_client = FhirClient(\n",
    "        base_url='https://connectathon.epic.com/Interconnect-Fhir-Unsecure/api/FHIR/R4/',\n",
    "        verify_ssl=False,\n",
    "        extra_headers={\n",
    "            'Epic-Client-ID': 'FFFFFFFFFFFFFFFFFFFFFFFFFFFFFF00'\n",
    "        })\n",
    "\n",
    "    return fhir_client"
   ]
  },
  {
   "cell_type": "code",
   "execution_count": 3,
   "id": "34093991-7c01-4024-b44d-b110b3832399",
   "metadata": {},
   "outputs": [
    {
     "data": {
      "text/plain": [
       "{\n",
       "    \"resourceType\": \"Bundle\",\n",
       "    \"type\": \"searchset\",\n",
       "    \"total\": 0,\n",
       "    \"link\": [\n",
       "        {\n",
       "            \"relation\": \"self\",\n",
       "            \"url\": \"https://connectathon.epic.com/Interconnect-FHIR-OAuth/api/FHIR/R4/Patient?gender=male\"\n",
       "        }\n",
       "    ],\n",
       "    \"entry\": [\n",
       "        {\n",
       "            \"fullUrl\": \"urn:uuid:eab41186-8f42-4fc0-a44b-989e90b2dee1\",\n",
       "            \"resource\": {\n",
       "                \"resourceType\": \"OperationOutcome\",\n",
       "                \"issue\": [\n",
       "                    {\n",
       "                        \"severity\": \"warning\",\n",
       "                        \"code\": \"processing\",\n",
       "                        \"details\": {\n",
       "                            \"coding\": [\n",
       "                                {\n",
       "                                    \"system\": \"urn:oid:1.2.840.114350.1.13.1.1.7.2.657369\",\n",
       "                                    \"code\": \"4101\",\n",
       "                                    \"display\": \"Resource request returns no results.\"\n",
       "                                }\n",
       "                            ],\n",
       "                            \"text\": \"Resource request returns no results.\"\n",
       "                        }\n",
       "                    }\n",
       "                ]\n",
       "            },\n",
       "            \"search\": {\n",
       "                \"mode\": \"outcome\"\n",
       "            }\n",
       "        }\n",
       "    ]\n",
       "}"
      ]
     },
     "execution_count": 3,
     "metadata": {},
     "output_type": "execute_result"
    }
   ],
   "source": [
    "client = setup_fhir_client()\n",
    "\n",
    "# TODO: No results\n",
    "search_results = client.search('Patient', {\n",
    "    # 'family': 'Smith',\n",
    "    'gender': 'male',\n",
    "    # 'birthdate': '1965-09-01',\n",
    "    # 'address-state': 'NC',\n",
    "})\n",
    "Pretty(json.dumps(search_results, indent=4))"
   ]
  },
  {
   "cell_type": "code",
   "execution_count": 4,
   "id": "b70e48db58013b82",
   "metadata": {
    "collapsed": false
   },
   "outputs": [
    {
     "data": {
      "text/plain": [
       "{\n",
       "    \"fullUrl\": \"urn:uuid:eab41186-8f42-4fc0-a44b-989e90b2dee1\",\n",
       "    \"resource\": {\n",
       "        \"resourceType\": \"OperationOutcome\",\n",
       "        \"issue\": [\n",
       "            {\n",
       "                \"severity\": \"warning\",\n",
       "                \"code\": \"processing\",\n",
       "                \"details\": {\n",
       "                    \"coding\": [\n",
       "                        {\n",
       "                            \"system\": \"urn:oid:1.2.840.114350.1.13.1.1.7.2.657369\",\n",
       "                            \"code\": \"4101\",\n",
       "                            \"display\": \"Resource request returns no results.\"\n",
       "                        }\n",
       "                    ],\n",
       "                    \"text\": \"Resource request returns no results.\"\n",
       "                }\n",
       "            }\n",
       "        ]\n",
       "    },\n",
       "    \"search\": {\n",
       "        \"mode\": \"outcome\"\n",
       "    }\n",
       "}"
      ]
     },
     "execution_count": 4,
     "metadata": {},
     "output_type": "execute_result"
    }
   ],
   "source": [
    "patient = search_results['entry'][0]\n",
    "Pretty(json.dumps(patient, indent=4))"
   ]
  },
  {
   "cell_type": "code",
   "execution_count": 5,
   "id": "96985a07-c25a-4078-afd7-eab7e46edba9",
   "metadata": {},
   "outputs": [
    {
     "ename": "KeyError",
     "evalue": "'text'",
     "output_type": "error",
     "traceback": [
      "\u001B[0;31m---------------------------------------------------------------------------\u001B[0m",
      "\u001B[0;31mKeyError\u001B[0m                                  Traceback (most recent call last)",
      "Cell \u001B[0;32mIn[5], line 1\u001B[0m\n\u001B[0;32m----> 1\u001B[0m HTML(\u001B[43mpatient\u001B[49m\u001B[43m[\u001B[49m\u001B[38;5;124;43m'\u001B[39;49m\u001B[38;5;124;43mresource\u001B[39;49m\u001B[38;5;124;43m'\u001B[39;49m\u001B[43m]\u001B[49m\u001B[43m[\u001B[49m\u001B[38;5;124;43m'\u001B[39;49m\u001B[38;5;124;43mtext\u001B[39;49m\u001B[38;5;124;43m'\u001B[39;49m\u001B[43m]\u001B[49m[\u001B[38;5;124m'\u001B[39m\u001B[38;5;124mdiv\u001B[39m\u001B[38;5;124m'\u001B[39m])\n",
      "\u001B[0;31mKeyError\u001B[0m: 'text'"
     ]
    }
   ],
   "source": [
    "HTML(patient['resource']['text']['div'])"
   ]
  },
  {
   "cell_type": "code",
   "execution_count": null,
   "id": "3e26e4d2d0a01080",
   "metadata": {
    "collapsed": false
   },
   "outputs": [],
   "source": [
    "everything = client.everything('Patient', patient['resource']['id'], count=1000)\n",
    "Pretty(json.dumps(everything, indent=4))"
   ]
  },
  {
   "cell_type": "code",
   "execution_count": null,
   "id": "52d167dc-37ed-4c92-9cb1-6b6863cac112",
   "metadata": {},
   "outputs": [],
   "source": [
    "medication_administration_results = client.search('MedicationAdministration', query_params={\n",
    "    'patient': patient['resource']['id']\n",
    "})\n",
    "Pretty(json.dumps(medication_administration_results, indent=4))"
   ]
  },
  {
   "cell_type": "code",
   "execution_count": null,
   "id": "afe5cd62-6cc3-45fd-8804-8331c8baac58",
   "metadata": {},
   "outputs": [],
   "source": [
    "observation_search_results = client.search('Observation', query_params={\n",
    "    'patient': patient['resource']['id']\n",
    "})\n",
    "\n",
    "Pretty(json.dumps(observation_search_results, indent=4))        "
   ]
  },
  {
   "cell_type": "code",
   "execution_count": null,
   "id": "22d72c64-24fb-40ed-ae85-e451098f30fb",
   "metadata": {},
   "outputs": [],
   "source": [
    "encounter_search_results = client.search('Encounter', query_params={\n",
    "    'patient': patient['resource']['id']\n",
    "})\n",
    "Pretty(json.dumps(encounter_search_results, indent=4))"
   ]
  },
  {
   "cell_type": "code",
   "execution_count": null,
   "id": "700b058039da87f6",
   "metadata": {
    "collapsed": false
   },
   "outputs": [],
   "source": [
    "client.close()"
   ]
  }
 ],
 "metadata": {
  "kernelspec": {
   "display_name": "Python 3 (ipykernel)",
   "language": "python",
   "name": "python3"
  },
  "language_info": {
   "codemirror_mode": {
    "name": "ipython",
    "version": 3
   },
   "file_extension": ".py",
   "mimetype": "text/x-python",
   "name": "python",
   "nbconvert_exporter": "python",
   "pygments_lexer": "ipython3",
   "version": "3.12.0"
  }
 },
 "nbformat": 4,
 "nbformat_minor": 5
}
