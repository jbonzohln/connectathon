{
 "cells": [
  {
   "cell_type": "code",
   "execution_count": 5,
   "id": "c4195761-c853-4167-a3f5-b43062a87c76",
   "metadata": {
    "ExecuteTime": {
     "end_time": "2024-01-16T19:12:11.085697Z",
     "start_time": "2024-01-16T19:12:10.160227Z"
    }
   },
   "outputs": [
    {
     "name": "stdout",
     "output_type": "stream",
     "text": [
      "Note: you may need to restart the kernel to use updated packages.\n"
     ]
    }
   ],
   "source": [
    "pip install -q -r requirements.txt"
   ]
  },
  {
   "cell_type": "code",
   "execution_count": 6,
   "id": "ad6d1b7f-2d99-4949-893e-b17db6dbfa94",
   "metadata": {
    "ExecuteTime": {
     "end_time": "2024-01-16T19:12:11.086462Z",
     "start_time": "2024-01-16T19:12:11.082159Z"
    }
   },
   "outputs": [],
   "source": [
    "import logging\n",
    "import json\n",
    "from IPython.display import Pretty, HTML\n",
    "import urllib3\n",
    "\n",
    "from pyfhirclient.FhirClient import FhirClient\n",
    "\n",
    "logging.basicConfig()\n",
    "logging.getLogger().setLevel(logging.ERROR)\n",
    "\n",
    "# Disable the unverified HTTPS request warnings\n",
    "urllib3.disable_warnings()"
   ]
  },
  {
   "cell_type": "code",
   "execution_count": 7,
   "id": "ddae87dd-b946-49f4-90c6-35b8e939dc28",
   "metadata": {
    "ExecuteTime": {
     "end_time": "2024-01-16T19:12:11.104350Z",
     "start_time": "2024-01-16T19:12:11.086855Z"
    }
   },
   "outputs": [],
   "source": [
    "def setup_fhir_client() -> FhirClient:\n",
    "    fhir_client = FhirClient(\n",
    "        base_url='https://connectathon.epic.com/Interconnect-Fhir-Basic/api/FHIR/R4/',\n",
    "        verify_ssl=False,\n",
    "        extra_headers={\n",
    "            'Epic-Client-ID': '523f56ca-e7f1-4fe5-961a-13c56f65b9f4'\n",
    "        })\n",
    "\n",
    "    fhir_client.auth_type = 'Basic'\n",
    "    fhir_client.token = 'ZW1wJEZISVJDT046Y3Jvc3NmaGlyMTc='\n",
    "\n",
    "    return fhir_client"
   ]
  },
  {
   "cell_type": "code",
   "execution_count": 8,
   "id": "34093991-7c01-4024-b44d-b110b3832399",
   "metadata": {
    "ExecuteTime": {
     "end_time": "2024-01-16T19:12:22.686702Z",
     "start_time": "2024-01-16T19:12:11.091206Z"
    }
   },
   "outputs": [
    {
     "name": "stderr",
     "output_type": "stream",
     "text": [
      "ERROR:root:b'\"\"'\n"
     ]
    },
    {
     "ename": "HTTPError",
     "evalue": "401 Client Error: Unauthorized for url: https://connectathon.epic.com/Interconnect-Fhir-Basic/api/FHIR/R4/Patient?family=Smith&gender=male&birthdate=1965-09-01&address-state=NC",
     "output_type": "error",
     "traceback": [
      "\u001B[0;31m---------------------------------------------------------------------------\u001B[0m",
      "\u001B[0;31mHTTPError\u001B[0m                                 Traceback (most recent call last)",
      "Cell \u001B[0;32mIn[8], line 3\u001B[0m\n\u001B[1;32m      1\u001B[0m client \u001B[38;5;241m=\u001B[39m setup_fhir_client()\n\u001B[0;32m----> 3\u001B[0m search_results \u001B[38;5;241m=\u001B[39m \u001B[43mclient\u001B[49m\u001B[38;5;241;43m.\u001B[39;49m\u001B[43msearch\u001B[49m\u001B[43m(\u001B[49m\u001B[38;5;124;43m'\u001B[39;49m\u001B[38;5;124;43mPatient\u001B[39;49m\u001B[38;5;124;43m'\u001B[39;49m\u001B[43m,\u001B[49m\u001B[43m \u001B[49m\u001B[43m{\u001B[49m\n\u001B[1;32m      4\u001B[0m \u001B[43m    \u001B[49m\u001B[38;5;124;43m'\u001B[39;49m\u001B[38;5;124;43mfamily\u001B[39;49m\u001B[38;5;124;43m'\u001B[39;49m\u001B[43m:\u001B[49m\u001B[43m \u001B[49m\u001B[38;5;124;43m'\u001B[39;49m\u001B[38;5;124;43mSmith\u001B[39;49m\u001B[38;5;124;43m'\u001B[39;49m\u001B[43m,\u001B[49m\n\u001B[1;32m      5\u001B[0m \u001B[43m    \u001B[49m\u001B[38;5;124;43m'\u001B[39;49m\u001B[38;5;124;43mgender\u001B[39;49m\u001B[38;5;124;43m'\u001B[39;49m\u001B[43m:\u001B[49m\u001B[43m \u001B[49m\u001B[38;5;124;43m'\u001B[39;49m\u001B[38;5;124;43mmale\u001B[39;49m\u001B[38;5;124;43m'\u001B[39;49m\u001B[43m,\u001B[49m\n\u001B[1;32m      6\u001B[0m \u001B[43m    \u001B[49m\u001B[38;5;124;43m'\u001B[39;49m\u001B[38;5;124;43mbirthdate\u001B[39;49m\u001B[38;5;124;43m'\u001B[39;49m\u001B[43m:\u001B[49m\u001B[43m \u001B[49m\u001B[38;5;124;43m'\u001B[39;49m\u001B[38;5;124;43m1965-09-01\u001B[39;49m\u001B[38;5;124;43m'\u001B[39;49m\u001B[43m,\u001B[49m\n\u001B[1;32m      7\u001B[0m \u001B[43m    \u001B[49m\u001B[38;5;124;43m'\u001B[39;49m\u001B[38;5;124;43maddress-state\u001B[39;49m\u001B[38;5;124;43m'\u001B[39;49m\u001B[43m:\u001B[49m\u001B[43m \u001B[49m\u001B[38;5;124;43m'\u001B[39;49m\u001B[38;5;124;43mNC\u001B[39;49m\u001B[38;5;124;43m'\u001B[39;49m\u001B[43m,\u001B[49m\n\u001B[1;32m      8\u001B[0m \u001B[43m}\u001B[49m\u001B[43m)\u001B[49m\n\u001B[1;32m      9\u001B[0m Pretty(json\u001B[38;5;241m.\u001B[39mdumps(search_results, indent\u001B[38;5;241m=\u001B[39m\u001B[38;5;241m4\u001B[39m))\n",
      "File \u001B[0;32m~/PycharmProjects/connectathon/2024/pyfhirclient/FhirClient.py:262\u001B[0m, in \u001B[0;36mFhirClient.search\u001B[0;34m(self, resource_type, query_params)\u001B[0m\n\u001B[1;32m    261\u001B[0m \u001B[38;5;28;01mdef\u001B[39;00m \u001B[38;5;21msearch\u001B[39m(\u001B[38;5;28mself\u001B[39m, resource_type: \u001B[38;5;28mstr\u001B[39m, query_params: \u001B[38;5;28mdict\u001B[39m) \u001B[38;5;241m-\u001B[39m\u001B[38;5;241m>\u001B[39m \u001B[38;5;28mdict\u001B[39m:\n\u001B[0;32m--> 262\u001B[0m     \u001B[38;5;28;01mreturn\u001B[39;00m \u001B[38;5;28;43mself\u001B[39;49m\u001B[38;5;241;43m.\u001B[39;49m\u001B[43m__operation_on_resource_type\u001B[49m\u001B[43m(\u001B[49m\n\u001B[1;32m    263\u001B[0m \u001B[43m        \u001B[49m\u001B[43mresource_type\u001B[49m\u001B[38;5;241;43m=\u001B[39;49m\u001B[43mresource_type\u001B[49m\u001B[43m,\u001B[49m\n\u001B[1;32m    264\u001B[0m \u001B[43m        \u001B[49m\u001B[43moperation\u001B[49m\u001B[38;5;241;43m=\u001B[39;49m\u001B[38;5;28;43;01mNone\u001B[39;49;00m\u001B[43m,\u001B[49m\n\u001B[1;32m    265\u001B[0m \u001B[43m        \u001B[49m\u001B[43mquery_params\u001B[49m\u001B[38;5;241;43m=\u001B[39;49m\u001B[43mquery_params\u001B[49m\n\u001B[1;32m    266\u001B[0m \u001B[43m    \u001B[49m\u001B[43m)\u001B[49m\n",
      "File \u001B[0;32m~/PycharmProjects/connectathon/2024/pyfhirclient/FhirClient.py:114\u001B[0m, in \u001B[0;36mFhirClient.__operation_on_resource_type\u001B[0;34m(self, resource_type, operation, query_params, body)\u001B[0m\n\u001B[1;32m    111\u001B[0m     data \u001B[38;5;241m=\u001B[39m json\u001B[38;5;241m.\u001B[39mdumps(body)\n\u001B[1;32m    113\u001B[0m \u001B[38;5;28;01mif\u001B[39;00m operation \u001B[38;5;129;01mis\u001B[39;00m \u001B[38;5;28;01mNone\u001B[39;00m:\n\u001B[0;32m--> 114\u001B[0m     \u001B[38;5;28;01mreturn\u001B[39;00m \u001B[38;5;28;43mself\u001B[39;49m\u001B[38;5;241;43m.\u001B[39;49m\u001B[43m__operation\u001B[49m\u001B[43m(\u001B[49m\u001B[43murl\u001B[49m\u001B[38;5;241;43m=\u001B[39;49m\u001B[38;5;124;43mf\u001B[39;49m\u001B[38;5;124;43m'\u001B[39;49m\u001B[38;5;132;43;01m{\u001B[39;49;00m\u001B[38;5;28;43mself\u001B[39;49m\u001B[38;5;241;43m.\u001B[39;49m\u001B[43mbase_url\u001B[49m\u001B[38;5;132;43;01m}\u001B[39;49;00m\u001B[38;5;124;43m/\u001B[39;49m\u001B[38;5;132;43;01m{\u001B[39;49;00m\u001B[43mresource_type\u001B[49m\u001B[38;5;132;43;01m}\u001B[39;49;00m\u001B[38;5;124;43m'\u001B[39;49m\u001B[43m,\u001B[49m\n\u001B[1;32m    115\u001B[0m \u001B[43m                            \u001B[49m\u001B[43mquery_params\u001B[49m\u001B[38;5;241;43m=\u001B[39;49m\u001B[43mquery_params\u001B[49m\u001B[43m,\u001B[49m\n\u001B[1;32m    116\u001B[0m \u001B[43m                            \u001B[49m\u001B[43mdata\u001B[49m\u001B[38;5;241;43m=\u001B[39;49m\u001B[43mdata\u001B[49m\u001B[43m)\u001B[49m\n\u001B[1;32m    117\u001B[0m \u001B[38;5;28;01melse\u001B[39;00m:\n\u001B[1;32m    118\u001B[0m     \u001B[38;5;28;01mreturn\u001B[39;00m \u001B[38;5;28mself\u001B[39m\u001B[38;5;241m.\u001B[39m__operation(url\u001B[38;5;241m=\u001B[39m\u001B[38;5;124mf\u001B[39m\u001B[38;5;124m'\u001B[39m\u001B[38;5;132;01m{\u001B[39;00m\u001B[38;5;28mself\u001B[39m\u001B[38;5;241m.\u001B[39mbase_url\u001B[38;5;132;01m}\u001B[39;00m\u001B[38;5;124m/\u001B[39m\u001B[38;5;132;01m{\u001B[39;00mresource_type\u001B[38;5;132;01m}\u001B[39;00m\u001B[38;5;124m/\u001B[39m\u001B[38;5;132;01m{\u001B[39;00moperation\u001B[38;5;132;01m}\u001B[39;00m\u001B[38;5;124m'\u001B[39m,\n\u001B[1;32m    119\u001B[0m                             query_params\u001B[38;5;241m=\u001B[39mquery_params,\n\u001B[1;32m    120\u001B[0m                             data\u001B[38;5;241m=\u001B[39mdata)\n",
      "File \u001B[0;32m~/PycharmProjects/connectathon/2024/pyfhirclient/FhirClient.py:86\u001B[0m, in \u001B[0;36mFhirClient.__operation\u001B[0;34m(self, url, query_params, data)\u001B[0m\n\u001B[1;32m     84\u001B[0m \u001B[38;5;28;01mif\u001B[39;00m response\u001B[38;5;241m.\u001B[39mcontent:\n\u001B[1;32m     85\u001B[0m     logging\u001B[38;5;241m.\u001B[39merror(response\u001B[38;5;241m.\u001B[39mcontent)\n\u001B[0;32m---> 86\u001B[0m \u001B[43mresponse\u001B[49m\u001B[38;5;241;43m.\u001B[39;49m\u001B[43mraise_for_status\u001B[49m\u001B[43m(\u001B[49m\u001B[43m)\u001B[49m\n",
      "File \u001B[0;32m/Library/Frameworks/Python.framework/Versions/3.12/lib/python3.12/site-packages/requests/models.py:1021\u001B[0m, in \u001B[0;36mResponse.raise_for_status\u001B[0;34m(self)\u001B[0m\n\u001B[1;32m   1016\u001B[0m     http_error_msg \u001B[38;5;241m=\u001B[39m (\n\u001B[1;32m   1017\u001B[0m         \u001B[38;5;124mf\u001B[39m\u001B[38;5;124m\"\u001B[39m\u001B[38;5;132;01m{\u001B[39;00m\u001B[38;5;28mself\u001B[39m\u001B[38;5;241m.\u001B[39mstatus_code\u001B[38;5;132;01m}\u001B[39;00m\u001B[38;5;124m Server Error: \u001B[39m\u001B[38;5;132;01m{\u001B[39;00mreason\u001B[38;5;132;01m}\u001B[39;00m\u001B[38;5;124m for url: \u001B[39m\u001B[38;5;132;01m{\u001B[39;00m\u001B[38;5;28mself\u001B[39m\u001B[38;5;241m.\u001B[39murl\u001B[38;5;132;01m}\u001B[39;00m\u001B[38;5;124m\"\u001B[39m\n\u001B[1;32m   1018\u001B[0m     )\n\u001B[1;32m   1020\u001B[0m \u001B[38;5;28;01mif\u001B[39;00m http_error_msg:\n\u001B[0;32m-> 1021\u001B[0m     \u001B[38;5;28;01mraise\u001B[39;00m HTTPError(http_error_msg, response\u001B[38;5;241m=\u001B[39m\u001B[38;5;28mself\u001B[39m)\n",
      "\u001B[0;31mHTTPError\u001B[0m: 401 Client Error: Unauthorized for url: https://connectathon.epic.com/Interconnect-Fhir-Basic/api/FHIR/R4/Patient?family=Smith&gender=male&birthdate=1965-09-01&address-state=NC"
     ]
    }
   ],
   "source": [
    "client = setup_fhir_client()\n",
    "\n",
    "search_results = client.search('Patient', {\n",
    "    'family': 'Smith',\n",
    "    'gender': 'male',\n",
    "    'birthdate': '1965-09-01',\n",
    "    'address-state': 'NC',\n",
    "})\n",
    "Pretty(json.dumps(search_results, indent=4))"
   ]
  },
  {
   "cell_type": "markdown",
   "source": [
    "There should be exactly one `Patient` matching the search."
   ],
   "metadata": {
    "collapsed": false
   },
   "id": "67ff53180d9d8061"
  },
  {
   "cell_type": "code",
   "outputs": [],
   "source": [
    "patient = search_results['entry'][0]\n",
    "Pretty(json.dumps(patient, indent=4))"
   ],
   "metadata": {
    "collapsed": false,
    "ExecuteTime": {
     "start_time": "2024-01-16T19:12:22.678605Z"
    }
   },
   "id": "b70e48db58013b82",
   "execution_count": null
  },
  {
   "cell_type": "code",
   "execution_count": null,
   "id": "96985a07-c25a-4078-afd7-eab7e46edba9",
   "metadata": {
    "ExecuteTime": {
     "start_time": "2024-01-16T19:12:22.680245Z"
    }
   },
   "outputs": [],
   "source": [
    "HTML(patient['resource']['text']['div'])"
   ]
  },
  {
   "cell_type": "code",
   "outputs": [],
   "source": [
    "everything = client.everything('Patient', patient['resource']['id'], count=1000)\n",
    "Pretty(json.dumps(everything, indent=4))"
   ],
   "metadata": {
    "collapsed": false,
    "ExecuteTime": {
     "start_time": "2024-01-16T19:12:22.681519Z"
    }
   },
   "id": "3e26e4d2d0a01080",
   "execution_count": null
  },
  {
   "cell_type": "markdown",
   "source": [
    "`MedicationAdministration` should have the medications administered to this Patient."
   ],
   "metadata": {
    "collapsed": false
   },
   "id": "dbb766e67639356a"
  },
  {
   "cell_type": "code",
   "execution_count": null,
   "id": "52d167dc-37ed-4c92-9cb1-6b6863cac112",
   "metadata": {
    "ExecuteTime": {
     "start_time": "2024-01-16T19:12:22.682802Z"
    }
   },
   "outputs": [],
   "source": [
    "medication_administration_results = client.search('MedicationAdministration', query_params={\n",
    "    'patient': patient['resource']['id']\n",
    "})\n",
    "Pretty(json.dumps(medication_administration_results, indent=4))"
   ]
  },
  {
   "cell_type": "markdown",
   "source": [
    "`Observation` should have lab test results, and pregnancy status."
   ],
   "metadata": {
    "collapsed": false
   },
   "id": "2b291fb90493cce0"
  },
  {
   "cell_type": "code",
   "execution_count": null,
   "id": "afe5cd62-6cc3-45fd-8804-8331c8baac58",
   "metadata": {
    "ExecuteTime": {
     "start_time": "2024-01-16T19:12:22.684157Z"
    }
   },
   "outputs": [],
   "source": [
    "observation_search_results = client.search('Observation', query_params={\n",
    "    'patient': patient['resource']['id']\n",
    "})\n",
    "\n",
    "Pretty(json.dumps(observation_search_results, indent=4))        "
   ]
  },
  {
   "cell_type": "markdown",
   "source": [
    "`Encounter` should have hospitalization status."
   ],
   "metadata": {
    "collapsed": false
   },
   "id": "6c15b61636068d2"
  },
  {
   "cell_type": "code",
   "execution_count": null,
   "id": "22d72c64-24fb-40ed-ae85-e451098f30fb",
   "metadata": {
    "ExecuteTime": {
     "start_time": "2024-01-16T19:12:22.685176Z"
    }
   },
   "outputs": [],
   "source": [
    "encounter_search_results = client.search('Encounter', query_params={\n",
    "    'patient': patient['resource']['id']\n",
    "})\n",
    "Pretty(json.dumps(encounter_search_results, indent=4))"
   ]
  },
  {
   "cell_type": "code",
   "outputs": [],
   "source": [
    "client.close()"
   ],
   "metadata": {
    "collapsed": false,
    "ExecuteTime": {
     "start_time": "2024-01-16T19:12:22.686058Z"
    }
   },
   "id": "700b058039da87f6",
   "execution_count": null
  }
 ],
 "metadata": {
  "kernelspec": {
   "display_name": "Python 3 (ipykernel)",
   "language": "python",
   "name": "python3"
  },
  "language_info": {
   "codemirror_mode": {
    "name": "ipython",
    "version": 3
   },
   "file_extension": ".py",
   "mimetype": "text/x-python",
   "name": "python",
   "nbconvert_exporter": "python",
   "pygments_lexer": "ipython3",
   "version": "3.12.1"
  }
 },
 "nbformat": 4,
 "nbformat_minor": 5
}
