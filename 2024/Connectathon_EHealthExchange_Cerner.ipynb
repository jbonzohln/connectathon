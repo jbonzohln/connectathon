{
 "cells": [
  {
   "cell_type": "code",
   "execution_count": 121,
   "id": "c4195761-c853-4167-a3f5-b43062a87c76",
   "metadata": {
    "ExecuteTime": {
     "end_time": "2024-01-16T21:20:36.401390Z",
     "start_time": "2024-01-16T21:20:35.541706Z"
    }
   },
   "outputs": [
    {
     "name": "stdout",
     "output_type": "stream",
     "text": [
      "Note: you may need to restart the kernel to use updated packages.\n"
     ]
    }
   ],
   "source": [
    "pip install -q -r requirements.txt"
   ]
  },
  {
   "cell_type": "code",
   "execution_count": 122,
   "id": "ad6d1b7f-2d99-4949-893e-b17db6dbfa94",
   "metadata": {
    "ExecuteTime": {
     "end_time": "2024-01-16T21:20:36.405284Z",
     "start_time": "2024-01-16T21:20:36.401057Z"
    }
   },
   "outputs": [],
   "source": [
    "import logging\n",
    "import json\n",
    "from IPython.display import Pretty, HTML\n",
    "import urllib3\n",
    "\n",
    "from pyfhirclient.FhirClient import FhirClient\n",
    "\n",
    "logging.basicConfig()\n",
    "logging.getLogger().setLevel(logging.ERROR)\n",
    "\n",
    "# Disable the unverified HTTPS request warnings\n",
    "urllib3.disable_warnings()"
   ]
  },
  {
   "cell_type": "code",
   "execution_count": 123,
   "id": "ddae87dd-b946-49f4-90c6-35b8e939dc28",
   "metadata": {
    "ExecuteTime": {
     "end_time": "2024-01-16T21:20:36.408848Z",
     "start_time": "2024-01-16T21:20:36.404573Z"
    }
   },
   "outputs": [],
   "source": [
    "def setup_fhir_client() -> FhirClient:\n",
    "    fhir_client = FhirClient(\n",
    "        base_url='https://concept01.ehealthexchange.org:52780/fhirproxy/r4/',\n",
    "        verify_ssl=False,\n",
    "        extra_headers={\n",
    "            'X-DESTINATION': 'CernerHelios',\n",
    "            'X-POU': 'TREAT',\n",
    "            'OAUTHSCOPES': 'system/Condition.read system/Encounter.read system/Immunization.read system/MedicationRequest.read system/Observation.read system/Patient.read system/Procedure.read system/MedicationAdministration.read system/DiagnosticReport.read system/RelatedPerson.read'\n",
    "            # 'Host': 'concept01.ehealthexchange.org:52780'\n",
    "        })\n",
    "\n",
    "    fhir_client.auth_type = 'Basic'\n",
    "    fhir_client.token = 'c3ZjX2VIeEZISVJTYW5kYm94OndpbGxmdWxTdHJvbmdTdGFuZHVyZDc'\n",
    "\n",
    "    return fhir_client"
   ]
  },
  {
   "cell_type": "code",
   "execution_count": 124,
   "id": "34093991-7c01-4024-b44d-b110b3832399",
   "metadata": {
    "ExecuteTime": {
     "end_time": "2024-01-16T21:20:36.412460Z",
     "start_time": "2024-01-16T21:20:36.407918Z"
    }
   },
   "outputs": [],
   "source": [
    "client = setup_fhir_client()"
   ]
  },
  {
   "cell_type": "code",
   "outputs": [
    {
     "data": {
      "text/plain": "[\n    {\n        \"resourceType\": \"Bundle\",\n        \"id\": \"ea031fe8-e815-4f11-ac8b-2deb35f15ae6\",\n        \"type\": \"searchset\",\n        \"link\": [\n            {\n                \"relation\": \"self\",\n                \"url\": \"https://fhir-ehr.cerner.com/r4/e8a84236-c258-4952-98b7-a6ff8a9c587a/Observation?patient=12559994\"\n            }\n        ],\n        \"entry\": [\n            {\n                \"fullUrl\": \"https://concept01.ehealthexchange.org:52780/fhirproxy/r4/Observation/SH-93-72797265\",\n                \"resource\": {\n                    \"resourceType\": \"Observation\",\n                    \"id\": \"SH-93-72797265\",\n                    \"meta\": {\n                        \"versionId\": \"72797265\",\n                        \"lastUpdated\": \"2018-01-24T21:54:52Z\"\n                    },\n                    \"text\": {\n                        \"status\": \"generated\",\n                        \"div\": \"<div xmlns=\\\"http://www.w3.org/1999/xhtml\\\"><p><b>Observation</b></p><p><b>Patient Id</b>: 12559994</p><p><b>Status</b>: Final</p><p><b>Categories</b>: Social History</p><p><b>Code</b>: Tobacco</p><p><b>Issued Date</b>: Jan 24, 2018  3:54 P.M. CST</p></div>\"\n                    },\n                    \"status\": \"final\",\n                    \"category\": [\n                        {\n                            \"coding\": [\n                                {\n                                    \"system\": \"http://terminology.hl7.org/CodeSystem/observation-category\",\n                                    \"code\": \"social-history\",\n                                    \"display\": \"Social History\"\n                                }\n                            ],\n                            \"text\": \"Social History\"\n                        }\n                    ],\n                    \"code\": {\n                        \"coding\": [\n                            {\n                                \"system\": \"http://loinc.org\",\n                                \"code\": \"88028-6\"\n                            }\n                        ],\n                        \"text\": \"Tobacco\"\n                    },\n                    \"subject\": {\n                        \"reference\": \"Patient/12559994\"\n                    },\n                    \"effectiveDateTime\": \"2018-01-24T21:54:52Z\",\n                    \"issued\": \"2018-01-24T21:54:52Z\",\n                    \"performer\": [\n                        {\n                            \"reference\": \"Practitioner/917967\",\n                            \"display\": \"Cerner Test, Nurse Four Cerner\"\n                        }\n                    ],\n                    \"hasMember\": [\n                        {\n                            \"reference\": \"Observation/SH-72797265-q4625825\"\n                        }\n                    ],\n                    \"identifier\": [\n                        {\n                            \"use\": \"usual\",\n                            \"type\": {\n                                \"text\": \"Target responder resource fullUrl\"\n                            },\n                            \"system\": \"https://ehealthexchange.org/hub/internal/targetResponderFullUrl\",\n                            \"value\": \"https://fhir-ehr.cerner.com/r4/e8a84236-c258-4952-98b7-a6ff8a9c587a/Observation/SH-93-72797265\"\n                        }\n                    ]\n                },\n                \"search\": {\n                    \"mode\": \"match\"\n                }\n            },\n            {\n                \"fullUrl\": \"https://concept01.ehealthexchange.org:52780/fhirproxy/r4/Observation/SH-72797265-q4625825\",\n                \"resource\": {\n                    \"resourceType\": \"Observation\",\n                    \"id\": \"SH-72797265-q4625825\",\n                    \"meta\": {\n                        \"versionId\": \"72797265\",\n                        \"lastUpdated\": \"2018-01-24T21:54:52Z\"\n                    },\n                    \"text\": {\n                        \"status\": \"generated\",\n                        \"div\": \"<div xmlns=\\\"http://www.w3.org/1999/xhtml\\\"><p><b>Observation</b></p><p><b>Patient Id</b>: 12559994</p><p><b>Status</b>: Final</p><p><b>Categories</b>: Social History</p><p><b>Question</b>: SHX Tobacco use</p><p><b>Response</b>: Never (less than 100 in lifetime)</p><p><b>Issued Date</b>: Jan 24, 2018  3:54 P.M. CST</p></div>\"\n                    },\n                    \"status\": \"final\",\n                    \"category\": [\n                        {\n                            \"coding\": [\n                                {\n                                    \"system\": \"http://terminology.hl7.org/CodeSystem/observation-category\",\n                                    \"code\": \"social-history\",\n                                    \"display\": \"Social History\"\n                                }\n                            ],\n                            \"text\": \"Social History\"\n                        }\n                    ],\n                    \"code\": {\n                        \"coding\": [\n                            {\n                                \"system\": \"http://loinc.org\",\n                                \"code\": \"72166-2\",\n                                \"userSelected\": false\n                            }\n                        ],\n                        \"text\": \"SHX Tobacco use\"\n                    },\n                    \"subject\": {\n                        \"reference\": \"Patient/12559994\"\n                    },\n                    \"effectiveDateTime\": \"2018-01-24T21:54:52Z\",\n                    \"issued\": \"2018-01-24T21:54:52Z\",\n                    \"performer\": [\n                        {\n                            \"reference\": \"Practitioner/917967\",\n                            \"display\": \"Cerner Test, Nurse Four Cerner\"\n                        }\n                    ],\n                    \"valueCodeableConcept\": {\n                        \"text\": \"Never (less than 100 in lifetime)\"\n                    },\n                    \"identifier\": [\n                        {\n                            \"use\": \"usual\",\n                            \"type\": {\n                                \"text\": \"Target responder resource fullUrl\"\n                            },\n                            \"system\": \"https://ehealthexchange.org/hub/internal/targetResponderFullUrl\",\n                            \"value\": \"https://fhir-ehr.cerner.com/r4/e8a84236-c258-4952-98b7-a6ff8a9c587a/Observation/SH-72797265-q4625825\"\n                        }\n                    ]\n                },\n                \"search\": {\n                    \"mode\": \"match\"\n                }\n            },\n            {\n                \"fullUrl\": \"https://concept01.ehealthexchange.org:52780/fhirproxy/r4/Observation/SH-33-72797275\",\n                \"resource\": {\n                    \"resourceType\": \"Observation\",\n                    \"id\": \"SH-33-72797275\",\n                    \"meta\": {\n                        \"versionId\": \"72797275\",\n                        \"lastUpdated\": \"2018-01-24T21:55:06Z\"\n                    },\n                    \"text\": {\n                        \"status\": \"generated\",\n                        \"div\": \"<div xmlns=\\\"http://www.w3.org/1999/xhtml\\\"><p><b>Observation</b></p><p><b>Patient Id</b>: 12559994</p><p><b>Status</b>: Final</p><p><b>Categories</b>: Social History</p><p><b>Code</b>: Home/Environment</p><p><b>Issued Date</b>: Jan 24, 2018  3:55 P.M. CST</p></div>\"\n                    },\n                    \"status\": \"final\",\n                    \"category\": [\n                        {\n                            \"coding\": [\n                                {\n                                    \"system\": \"http://terminology.hl7.org/CodeSystem/observation-category\",\n                                    \"code\": \"social-history\",\n                                    \"display\": \"Social History\"\n                                }\n                            ],\n                            \"text\": \"Social History\"\n                        }\n                    ],\n                    \"code\": {\n                        \"coding\": [\n                            {\n                                \"system\": \"http://snomed.info/sct\",\n                                \"code\": \"4683004\",\n                                \"display\": \"Living condition (observable entity)\"\n                            }\n                        ],\n                        \"text\": \"Home/Environment\"\n                    },\n                    \"subject\": {\n                        \"reference\": \"Patient/12559994\"\n                    },\n                    \"effectiveDateTime\": \"2018-01-24T21:55:06Z\",\n                    \"issued\": \"2018-01-24T21:55:06Z\",\n                    \"performer\": [\n                        {\n                            \"reference\": \"Practitioner/917967\",\n                            \"display\": \"Cerner Test, Nurse Four Cerner\"\n                        }\n                    ],\n                    \"hasMember\": [\n                        {\n                            \"reference\": \"Observation/SH-72797275-q4625933\"\n                        }\n                    ],\n                    \"identifier\": [\n                        {\n                            \"use\": \"usual\",\n                            \"type\": {\n                                \"text\": \"Target responder resource fullUrl\"\n                            },\n                            \"system\": \"https://ehealthexchange.org/hub/internal/targetResponderFullUrl\",\n                            \"value\": \"https://fhir-ehr.cerner.com/r4/e8a84236-c258-4952-98b7-a6ff8a9c587a/Observation/SH-33-72797275\"\n                        }\n                    ]\n                },\n                \"search\": {\n                    \"mode\": \"match\"\n                }\n            },\n            {\n                \"fullUrl\": \"https://concept01.ehealthexchange.org:52780/fhirproxy/r4/Observation/SH-72797275-q4625933\",\n                \"resource\": {\n                    \"resourceType\": \"Observation\",\n                    \"id\": \"SH-72797275-q4625933\",\n                    \"meta\": {\n                        \"versionId\": \"72797275\",\n                        \"lastUpdated\": \"2018-01-24T21:55:06Z\"\n                    },\n                    \"text\": {\n                        \"status\": \"generated\",\n                        \"div\": \"<div xmlns=\\\"http://www.w3.org/1999/xhtml\\\"><p><b>Observation</b></p><p><b>Patient Id</b>: 12559994</p><p><b>Status</b>: Final</p><p><b>Categories</b>: Social History</p><p><b>Question</b>: SHX Injuries/Abuse in household</p><p><b>Response</b>: Yes</p><p><b>Issued Date</b>: Jan 24, 2018  3:55 P.M. CST</p></div>\"\n                    },\n                    \"status\": \"final\",\n                    \"category\": [\n                        {\n                            \"coding\": [\n                                {\n                                    \"system\": \"http://terminology.hl7.org/CodeSystem/observation-category\",\n                                    \"code\": \"social-history\",\n                                    \"display\": \"Social History\"\n                                }\n                            ],\n                            \"text\": \"Social History\"\n                        }\n                    ],\n                    \"code\": {\n                        \"coding\": [\n                            {\n                                \"system\": \"http://snomed.info/sct\",\n                                \"code\": \"386702006\",\n                                \"display\": \"Victim of abuse (finding)\",\n                                \"userSelected\": false\n                            }\n                        ],\n                        \"text\": \"SHX Injuries/Abuse in household\"\n                    },\n                    \"subject\": {\n                        \"reference\": \"Patient/12559994\"\n                    },\n                    \"effectiveDateTime\": \"2018-01-24T21:55:06Z\",\n                    \"issued\": \"2018-01-24T21:55:06Z\",\n                    \"performer\": [\n                        {\n                            \"reference\": \"Practitioner/917967\",\n                            \"display\": \"Cerner Test, Nurse Four Cerner\"\n                        }\n                    ],\n                    \"valueCodeableConcept\": {\n                        \"coding\": [\n                            {\n                                \"system\": \"http://snomed.info/sct\",\n                                \"code\": \"373066001\",\n                                \"display\": \"Yes (qualifier value)\"\n                            }\n                        ],\n                        \"text\": \"Yes\"\n                    },\n                    \"identifier\": [\n                        {\n                            \"use\": \"usual\",\n                            \"type\": {\n                                \"text\": \"Target responder resource fullUrl\"\n                            },\n                            \"system\": \"https://ehealthexchange.org/hub/internal/targetResponderFullUrl\",\n                            \"value\": \"https://fhir-ehr.cerner.com/r4/e8a84236-c258-4952-98b7-a6ff8a9c587a/Observation/SH-72797275-q4625933\"\n                        }\n                    ]\n                },\n                \"search\": {\n                    \"mode\": \"match\"\n                }\n            },\n            {\n                \"fullUrl\": \"https://concept01.ehealthexchange.org:52780/fhirproxy/r4/Observation/L-196297991\",\n                \"resource\": {\n                    \"resourceType\": \"Observation\",\n                    \"id\": \"L-196297991\",\n                    \"meta\": {\n                        \"versionId\": \"2\",\n                        \"lastUpdated\": \"2018-01-24T21:55:08.000Z\"\n                    },\n                    \"text\": {\n                        \"status\": \"generated\",\n                        \"div\": \"<div xmlns=\\\"http://www.w3.org/1999/xhtml\\\"><p><b>Observation</b></p><p><b>Patient Id</b>: 12559994</p><p><b>Status</b>: Final</p><p><b>Code</b>: Advance Directive</p><p><b>Result</b>: No</p><p><b>Effective Date</b>: Jan 24, 2018  3:54 P.M. CST</p></div>\"\n                    },\n                    \"identifier\": [\n                        {\n                            \"system\": \"https://fhir.cerner.com/ceuuid\",\n                            \"value\": \"CE87caf4b7-9397-4667-9897-702218017c9e-196297991-2018012421544700\"\n                        },\n                        {\n                            \"use\": \"usual\",\n                            \"type\": {\n                                \"text\": \"Target responder resource fullUrl\"\n                            },\n                            \"system\": \"https://ehealthexchange.org/hub/internal/targetResponderFullUrl\",\n                            \"value\": \"https://fhir-ehr.cerner.com/r4/e8a84236-c258-4952-98b7-a6ff8a9c587a/Observation/L-196297991\"\n                        }\n                    ],\n                    \"status\": \"final\",\n                    \"category\": [\n                        {\n                            \"extension\": [\n                                {\n                                    \"valueCode\": \"unknown\",\n                                    \"url\": \"http://hl7.org/fhir/StructureDefinition/data-absent-reason\"\n                                }\n                            ]\n                        }\n                    ],\n                    \"code\": {\n                        \"coding\": [\n                            {\n                                \"system\": \"https://fhir.cerner.com/e8a84236-c258-4952-98b7-a6ff8a9c587a/codeSet/72\",\n                                \"code\": \"704644\",\n                                \"display\": \"Advance Directive\",\n                                \"userSelected\": true\n                            },\n                            {\n                                \"system\": \"http://snomed.info/sct\",\n                                \"code\": \"425392003\",\n                                \"display\": \"Active advance directive (finding)\",\n                                \"userSelected\": false\n                            }\n                        ],\n                        \"text\": \"Advance Directive\"\n                    },\n                    \"subject\": {\n                        \"reference\": \"Patient/12559994\"\n                    },\n                    \"encounter\": {\n                        \"reference\": \"Encounter/97787420\"\n                    },\n                    \"effectiveDateTime\": \"2018-01-24T21:54:00.000Z\",\n                    \"issued\": \"2018-01-24T21:54:38.000Z\",\n                    \"performer\": [\n                        {\n                            \"extension\": [\n                                {\n                                    \"valueCodeableConcept\": {\n                                        \"coding\": [\n                                            {\n                                                \"system\": \"http://terminology.hl7.org/CodeSystem/v3-ParticipationType\",\n                                                \"code\": \"PPRF\",\n                                                \"display\": \"primary performer\"\n                                            }\n                                        ],\n                                        \"text\": \"primary performer\"\n                                    },\n                                    \"url\": \"http://hl7.org/fhir/StructureDefinition/event-performerFunction\"\n                                }\n                            ],\n                            \"reference\": \"Practitioner/917967\"\n                        }\n                    ],\n                    \"valueCodeableConcept\": {\n                        \"text\": \"No\"\n                    }\n                },\n                \"search\": {\n                    \"mode\": \"match\"\n                }\n            }\n        ]\n    },\n    {\n        \"resourceType\": \"Bundle\",\n        \"id\": \"8ec70843-3adc-4c60-b6fa-91bfadab9ab9\",\n        \"type\": \"searchset\",\n        \"link\": [\n            {\n                \"relation\": \"self\",\n                \"url\": \"https://fhir-ehr.cerner.com/r4/e8a84236-c258-4952-98b7-a6ff8a9c587a/Observation?patient=12602018\"\n            }\n        ]\n    },\n    {\n        \"resourceType\": \"Bundle\",\n        \"id\": \"37931b04-6c5b-4343-818a-31b776662b40\",\n        \"type\": \"searchset\",\n        \"link\": [\n            {\n                \"relation\": \"self\",\n                \"url\": \"https://fhir-ehr.cerner.com/r4/e8a84236-c258-4952-98b7-a6ff8a9c587a/Observation?patient=12846754\"\n            }\n        ]\n    },\n    {\n        \"resourceType\": \"Bundle\",\n        \"id\": \"9a23bb36-b364-40ca-8d90-37d6126801c5\",\n        \"type\": \"searchset\",\n        \"link\": [\n            {\n                \"relation\": \"self\",\n                \"url\": \"https://fhir-ehr.cerner.com/r4/e8a84236-c258-4952-98b7-a6ff8a9c587a/Observation?patient=12846763\"\n            }\n        ]\n    },\n    {\n        \"resourceType\": \"Bundle\",\n        \"id\": \"90ba6a58-4271-47ff-8de6-db800dbadd57\",\n        \"type\": \"searchset\",\n        \"link\": [\n            {\n                \"relation\": \"self\",\n                \"url\": \"https://fhir-ehr.cerner.com/r4/e8a84236-c258-4952-98b7-a6ff8a9c587a/Observation?patient=12846765\"\n            }\n        ]\n    }\n]"
     },
     "execution_count": 135,
     "metadata": {},
     "output_type": "execute_result"
    }
   ],
   "source": [
    "search_results = client.search('Patient', {\n",
    "    'address-postalcode': '64108'\n",
    "})\n",
    "# Pretty(json.dumps(search_results, indent=4))\n",
    "patient_ids = []\n",
    "for entry in search_results['entry']:\n",
    "    patient_ids.append(entry['resource']['id'])\n",
    "    \n",
    "observations = []\n",
    "for patient_id in patient_ids:\n",
    "    observations.append(client.search('Observation', query_params={\n",
    "        'patient': patient_id\n",
    "    }))\n",
    "Pretty(json.dumps(observations, indent=4))"
   ],
   "metadata": {
    "collapsed": false,
    "ExecuteTime": {
     "end_time": "2024-01-16T21:23:04.737810Z",
     "start_time": "2024-01-16T21:22:56.295187Z"
    }
   },
   "id": "7961804443b0fb",
   "execution_count": 135
  },
  {
   "cell_type": "markdown",
   "source": [
    "There should be exactly one `Patient` matching the search."
   ],
   "metadata": {
    "collapsed": false
   },
   "id": "67ff53180d9d8061"
  },
  {
   "cell_type": "code",
   "outputs": [
    {
     "data": {
      "text/plain": "{\n    \"fullUrl\": \"https://concept01.ehealthexchange.org:52780/fhirproxy/r4/Patient/12559994\",\n    \"resource\": {\n        \"resourceType\": \"Patient\",\n        \"id\": \"12559994\",\n        \"meta\": {\n            \"versionId\": \"3\",\n            \"lastUpdated\": \"2018-02-02T15:11:47.000Z\"\n        },\n        \"text\": {\n            \"status\": \"generated\",\n            \"div\": \"<div xmlns=\\\"http://www.w3.org/1999/xhtml\\\"><p><b>Patient</b></p><p><b>Name</b>: NURSING, RESTRAINT</p><p><b>Status</b>: Active</p><p><b>DOB</b>: Dec 15, 1991</p><p><b>Administrative Gender</b>: Female</p><p><b>Marital Status</b>: Single</p></div>\"\n        },\n        \"extension\": [\n            {\n                \"extension\": [\n                    {\n                        \"valueCoding\": {\n                            \"system\": \"urn:oid:2.16.840.1.113883.6.238\",\n                            \"code\": \"2076-8\",\n                            \"display\": \"Native Hawaiian or Other Pacific Islander\",\n                            \"userSelected\": false\n                        },\n                        \"url\": \"ombCategory\"\n                    },\n                    {\n                        \"valueString\": \"Native Hawaiian or Pacific Islander\",\n                        \"url\": \"text\"\n                    }\n                ],\n                \"url\": \"http://hl7.org/fhir/us/core/StructureDefinition/us-core-race\"\n            },\n            {\n                \"extension\": [\n                    {\n                        \"valueCoding\": {\n                            \"system\": \"urn:oid:2.16.840.1.113883.6.238\",\n                            \"code\": \"2186-5\",\n                            \"display\": \"Not Hispanic or Latino\",\n                            \"userSelected\": false\n                        },\n                        \"url\": \"ombCategory\"\n                    },\n                    {\n                        \"valueString\": \"Not Hispanic, Latino, or Spanish Origin\",\n                        \"url\": \"text\"\n                    }\n                ],\n                \"url\": \"http://hl7.org/fhir/us/core/StructureDefinition/us-core-ethnicity\"\n            }\n        ],\n        \"identifier\": [\n            {\n                \"id\": \"CI-489930726-0\",\n                \"use\": \"usual\",\n                \"type\": {\n                    \"coding\": [\n                        {\n                            \"system\": \"https://fhir.cerner.com/e8a84236-c258-4952-98b7-a6ff8a9c587a/codeSet/4\",\n                            \"code\": \"10\",\n                            \"display\": \"MRN\",\n                            \"userSelected\": true\n                        },\n                        {\n                            \"system\": \"http://terminology.hl7.org/CodeSystem/v2-0203\",\n                            \"code\": \"MR\",\n                            \"display\": \"Medical record number\",\n                            \"userSelected\": false\n                        }\n                    ],\n                    \"text\": \"MRN\"\n                },\n                \"system\": \"urn:oid:2.16.840.1.113883.3.0.0.5\",\n                \"value\": \"6560\",\n                \"_value\": {\n                    \"extension\": [\n                        {\n                            \"valueString\": \"MX00006560\",\n                            \"url\": \"http://hl7.org/fhir/StructureDefinition/rendered-value\"\n                        }\n                    ]\n                },\n                \"period\": {\n                    \"start\": \"2017-09-13T19:41:13.000Z\"\n                }\n            },\n            {\n                \"use\": \"usual\",\n                \"type\": {\n                    \"text\": \"Target responder resource fullUrl\"\n                },\n                \"system\": \"https://ehealthexchange.org/hub/internal/targetResponderFullUrl\",\n                \"value\": \"https://fhir-ehr.cerner.com/r4/e8a84236-c258-4952-98b7-a6ff8a9c587a/Patient/12559994\"\n            }\n        ],\n        \"active\": true,\n        \"name\": [\n            {\n                \"id\": \"CI-12559994-0\",\n                \"use\": \"official\",\n                \"text\": \"NURSING, RESTRAINT\",\n                \"family\": \"NURSING\",\n                \"given\": [\n                    \"RESTRAINT\"\n                ],\n                \"period\": {\n                    \"start\": \"2017-09-13T19:41:13.000Z\"\n                }\n            }\n        ],\n        \"telecom\": [\n            {\n                \"id\": \"CI-PH-29657899-0\",\n                \"extension\": [\n                    {\n                        \"valueUrl\": \"(654)789-3118\",\n                        \"url\": \"http://hl7.org/fhir/StructureDefinition/iso21090-TEL-address\"\n                    }\n                ],\n                \"system\": \"phone\",\n                \"value\": \"6547893118\",\n                \"use\": \"mobile\",\n                \"rank\": 1,\n                \"period\": {\n                    \"start\": \"2017-09-13T19:41:13.000Z\"\n                }\n            }\n        ],\n        \"gender\": \"female\",\n        \"birthDate\": \"1991-12-15\",\n        \"address\": [\n            {\n                \"id\": \"CI-24153455-0\",\n                \"use\": \"home\",\n                \"text\": \"123 Main St\\nKansas City, MO 64108\\nUS\",\n                \"line\": [\n                    \"123 Main St\"\n                ],\n                \"city\": \"Kansas City\",\n                \"state\": \"MO\",\n                \"postalCode\": \"64108\",\n                \"country\": \"US\",\n                \"period\": {\n                    \"start\": \"2017-09-13T19:38:11.000Z\"\n                }\n            }\n        ],\n        \"maritalStatus\": {\n            \"coding\": [\n                {\n                    \"system\": \"https://fhir.cerner.com/e8a84236-c258-4952-98b7-a6ff8a9c587a/codeSet/38\",\n                    \"code\": \"309239\",\n                    \"display\": \"Single\",\n                    \"userSelected\": true\n                },\n                {\n                    \"system\": \"http://terminology.hl7.org/CodeSystem/v3-MaritalStatus\",\n                    \"code\": \"S\",\n                    \"display\": \"Never Married\",\n                    \"userSelected\": false\n                }\n            ],\n            \"text\": \"Single\"\n        },\n        \"communication\": [\n            {\n                \"language\": {\n                    \"coding\": [\n                        {\n                            \"system\": \"https://fhir.cerner.com/e8a84236-c258-4952-98b7-a6ff8a9c587a/codeSet/36\",\n                            \"code\": \"151\",\n                            \"display\": \"English\",\n                            \"userSelected\": true\n                        },\n                        {\n                            \"system\": \"urn:ietf:bcp:47\",\n                            \"code\": \"en\",\n                            \"display\": \"English\",\n                            \"userSelected\": false\n                        }\n                    ],\n                    \"text\": \"English\"\n                },\n                \"preferred\": true\n            }\n        ],\n        \"generalPractitioner\": [\n            {\n                \"id\": \"CI-489930749-0\",\n                \"reference\": \"Practitioner/3332086\",\n                \"display\": \"Cerner Test, Physician - Primary Care Eight Cerner\"\n            }\n        ]\n    },\n    \"search\": {\n        \"mode\": \"match\"\n    }\n}"
     },
     "execution_count": 126,
     "metadata": {},
     "output_type": "execute_result"
    }
   ],
   "source": [
    "patient = search_results['entry'][0]\n",
    "Pretty(json.dumps(patient, indent=4))"
   ],
   "metadata": {
    "collapsed": false,
    "ExecuteTime": {
     "end_time": "2024-01-16T21:20:37.435367Z",
     "start_time": "2024-01-16T21:20:37.430631Z"
    }
   },
   "id": "b70e48db58013b82",
   "execution_count": 126
  },
  {
   "cell_type": "code",
   "execution_count": 127,
   "id": "96985a07-c25a-4078-afd7-eab7e46edba9",
   "metadata": {
    "ExecuteTime": {
     "end_time": "2024-01-16T21:20:37.441714Z",
     "start_time": "2024-01-16T21:20:37.434996Z"
    }
   },
   "outputs": [
    {
     "data": {
      "text/plain": "<IPython.core.display.HTML object>",
      "text/html": "<div xmlns=\"http://www.w3.org/1999/xhtml\"><p><b>Patient</b></p><p><b>Name</b>: NURSING, RESTRAINT</p><p><b>Status</b>: Active</p><p><b>DOB</b>: Dec 15, 1991</p><p><b>Administrative Gender</b>: Female</p><p><b>Marital Status</b>: Single</p></div>"
     },
     "execution_count": 127,
     "metadata": {},
     "output_type": "execute_result"
    }
   ],
   "source": [
    "HTML(patient['resource']['text']['div'])"
   ]
  },
  {
   "cell_type": "markdown",
   "source": [
    "`MedicationAdministration` should have the medications administered to this Patient."
   ],
   "metadata": {
    "collapsed": false
   },
   "id": "dbb766e67639356a"
  },
  {
   "cell_type": "code",
   "execution_count": 128,
   "id": "52d167dc-37ed-4c92-9cb1-6b6863cac112",
   "metadata": {
    "ExecuteTime": {
     "end_time": "2024-01-16T21:20:41.509461Z",
     "start_time": "2024-01-16T21:20:37.439397Z"
    }
   },
   "outputs": [
    {
     "data": {
      "text/plain": "{\n    \"resourceType\": \"Bundle\",\n    \"id\": \"e61c3377-e5a0-4069-a199-a004158dbba1\",\n    \"type\": \"searchset\",\n    \"link\": [\n        {\n            \"relation\": \"self\",\n            \"url\": \"https://fhir-ehr.cerner.com/r4/e8a84236-c258-4952-98b7-a6ff8a9c587a/MedicationAdministration?patient=12559994\"\n        }\n    ]\n}"
     },
     "execution_count": 128,
     "metadata": {},
     "output_type": "execute_result"
    }
   ],
   "source": [
    "medication_administration_results = client.search('MedicationAdministration', query_params={\n",
    "    'patient': patient['resource']['id']\n",
    "})\n",
    "Pretty(json.dumps(medication_administration_results, indent=4))"
   ]
  },
  {
   "cell_type": "markdown",
   "source": [
    "`Observation` should have lab test results, and pregnancy status."
   ],
   "metadata": {
    "collapsed": false
   },
   "id": "2b291fb90493cce0"
  },
  {
   "cell_type": "code",
   "execution_count": 133,
   "id": "afe5cd62-6cc3-45fd-8804-8331c8baac58",
   "metadata": {
    "ExecuteTime": {
     "end_time": "2024-01-16T21:21:42.228912Z",
     "start_time": "2024-01-16T21:21:37.799059Z"
    }
   },
   "outputs": [
    {
     "data": {
      "text/plain": "{\n    \"resourceType\": \"Bundle\",\n    \"id\": \"68272a77-2d6b-4c22-a67e-864597aa09d9\",\n    \"type\": \"searchset\",\n    \"link\": [\n        {\n            \"relation\": \"self\",\n            \"url\": \"https://fhir-ehr.cerner.com/r4/e8a84236-c258-4952-98b7-a6ff8a9c587a/Observation?patient=12559994\"\n        }\n    ],\n    \"entry\": [\n        {\n            \"fullUrl\": \"https://concept01.ehealthexchange.org:52780/fhirproxy/r4/Observation/SH-93-72797265\",\n            \"resource\": {\n                \"resourceType\": \"Observation\",\n                \"id\": \"SH-93-72797265\",\n                \"meta\": {\n                    \"versionId\": \"72797265\",\n                    \"lastUpdated\": \"2018-01-24T21:54:52Z\"\n                },\n                \"text\": {\n                    \"status\": \"generated\",\n                    \"div\": \"<div xmlns=\\\"http://www.w3.org/1999/xhtml\\\"><p><b>Observation</b></p><p><b>Patient Id</b>: 12559994</p><p><b>Status</b>: Final</p><p><b>Categories</b>: Social History</p><p><b>Code</b>: Tobacco</p><p><b>Issued Date</b>: Jan 24, 2018  3:54 P.M. CST</p></div>\"\n                },\n                \"status\": \"final\",\n                \"category\": [\n                    {\n                        \"coding\": [\n                            {\n                                \"system\": \"http://terminology.hl7.org/CodeSystem/observation-category\",\n                                \"code\": \"social-history\",\n                                \"display\": \"Social History\"\n                            }\n                        ],\n                        \"text\": \"Social History\"\n                    }\n                ],\n                \"code\": {\n                    \"coding\": [\n                        {\n                            \"system\": \"http://loinc.org\",\n                            \"code\": \"88028-6\"\n                        }\n                    ],\n                    \"text\": \"Tobacco\"\n                },\n                \"subject\": {\n                    \"reference\": \"Patient/12559994\"\n                },\n                \"effectiveDateTime\": \"2018-01-24T21:54:52Z\",\n                \"issued\": \"2018-01-24T21:54:52Z\",\n                \"performer\": [\n                    {\n                        \"reference\": \"Practitioner/917967\",\n                        \"display\": \"Cerner Test, Nurse Four Cerner\"\n                    }\n                ],\n                \"hasMember\": [\n                    {\n                        \"reference\": \"Observation/SH-72797265-q4625825\"\n                    }\n                ],\n                \"identifier\": [\n                    {\n                        \"use\": \"usual\",\n                        \"type\": {\n                            \"text\": \"Target responder resource fullUrl\"\n                        },\n                        \"system\": \"https://ehealthexchange.org/hub/internal/targetResponderFullUrl\",\n                        \"value\": \"https://fhir-ehr.cerner.com/r4/e8a84236-c258-4952-98b7-a6ff8a9c587a/Observation/SH-93-72797265\"\n                    }\n                ]\n            },\n            \"search\": {\n                \"mode\": \"match\"\n            }\n        },\n        {\n            \"fullUrl\": \"https://concept01.ehealthexchange.org:52780/fhirproxy/r4/Observation/SH-72797265-q4625825\",\n            \"resource\": {\n                \"resourceType\": \"Observation\",\n                \"id\": \"SH-72797265-q4625825\",\n                \"meta\": {\n                    \"versionId\": \"72797265\",\n                    \"lastUpdated\": \"2018-01-24T21:54:52Z\"\n                },\n                \"text\": {\n                    \"status\": \"generated\",\n                    \"div\": \"<div xmlns=\\\"http://www.w3.org/1999/xhtml\\\"><p><b>Observation</b></p><p><b>Patient Id</b>: 12559994</p><p><b>Status</b>: Final</p><p><b>Categories</b>: Social History</p><p><b>Question</b>: SHX Tobacco use</p><p><b>Response</b>: Never (less than 100 in lifetime)</p><p><b>Issued Date</b>: Jan 24, 2018  3:54 P.M. CST</p></div>\"\n                },\n                \"status\": \"final\",\n                \"category\": [\n                    {\n                        \"coding\": [\n                            {\n                                \"system\": \"http://terminology.hl7.org/CodeSystem/observation-category\",\n                                \"code\": \"social-history\",\n                                \"display\": \"Social History\"\n                            }\n                        ],\n                        \"text\": \"Social History\"\n                    }\n                ],\n                \"code\": {\n                    \"coding\": [\n                        {\n                            \"system\": \"http://loinc.org\",\n                            \"code\": \"72166-2\",\n                            \"userSelected\": false\n                        }\n                    ],\n                    \"text\": \"SHX Tobacco use\"\n                },\n                \"subject\": {\n                    \"reference\": \"Patient/12559994\"\n                },\n                \"effectiveDateTime\": \"2018-01-24T21:54:52Z\",\n                \"issued\": \"2018-01-24T21:54:52Z\",\n                \"performer\": [\n                    {\n                        \"reference\": \"Practitioner/917967\",\n                        \"display\": \"Cerner Test, Nurse Four Cerner\"\n                    }\n                ],\n                \"valueCodeableConcept\": {\n                    \"text\": \"Never (less than 100 in lifetime)\"\n                },\n                \"identifier\": [\n                    {\n                        \"use\": \"usual\",\n                        \"type\": {\n                            \"text\": \"Target responder resource fullUrl\"\n                        },\n                        \"system\": \"https://ehealthexchange.org/hub/internal/targetResponderFullUrl\",\n                        \"value\": \"https://fhir-ehr.cerner.com/r4/e8a84236-c258-4952-98b7-a6ff8a9c587a/Observation/SH-72797265-q4625825\"\n                    }\n                ]\n            },\n            \"search\": {\n                \"mode\": \"match\"\n            }\n        },\n        {\n            \"fullUrl\": \"https://concept01.ehealthexchange.org:52780/fhirproxy/r4/Observation/SH-33-72797275\",\n            \"resource\": {\n                \"resourceType\": \"Observation\",\n                \"id\": \"SH-33-72797275\",\n                \"meta\": {\n                    \"versionId\": \"72797275\",\n                    \"lastUpdated\": \"2018-01-24T21:55:06Z\"\n                },\n                \"text\": {\n                    \"status\": \"generated\",\n                    \"div\": \"<div xmlns=\\\"http://www.w3.org/1999/xhtml\\\"><p><b>Observation</b></p><p><b>Patient Id</b>: 12559994</p><p><b>Status</b>: Final</p><p><b>Categories</b>: Social History</p><p><b>Code</b>: Home/Environment</p><p><b>Issued Date</b>: Jan 24, 2018  3:55 P.M. CST</p></div>\"\n                },\n                \"status\": \"final\",\n                \"category\": [\n                    {\n                        \"coding\": [\n                            {\n                                \"system\": \"http://terminology.hl7.org/CodeSystem/observation-category\",\n                                \"code\": \"social-history\",\n                                \"display\": \"Social History\"\n                            }\n                        ],\n                        \"text\": \"Social History\"\n                    }\n                ],\n                \"code\": {\n                    \"coding\": [\n                        {\n                            \"system\": \"http://snomed.info/sct\",\n                            \"code\": \"4683004\",\n                            \"display\": \"Living condition (observable entity)\"\n                        }\n                    ],\n                    \"text\": \"Home/Environment\"\n                },\n                \"subject\": {\n                    \"reference\": \"Patient/12559994\"\n                },\n                \"effectiveDateTime\": \"2018-01-24T21:55:06Z\",\n                \"issued\": \"2018-01-24T21:55:06Z\",\n                \"performer\": [\n                    {\n                        \"reference\": \"Practitioner/917967\",\n                        \"display\": \"Cerner Test, Nurse Four Cerner\"\n                    }\n                ],\n                \"hasMember\": [\n                    {\n                        \"reference\": \"Observation/SH-72797275-q4625933\"\n                    }\n                ],\n                \"identifier\": [\n                    {\n                        \"use\": \"usual\",\n                        \"type\": {\n                            \"text\": \"Target responder resource fullUrl\"\n                        },\n                        \"system\": \"https://ehealthexchange.org/hub/internal/targetResponderFullUrl\",\n                        \"value\": \"https://fhir-ehr.cerner.com/r4/e8a84236-c258-4952-98b7-a6ff8a9c587a/Observation/SH-33-72797275\"\n                    }\n                ]\n            },\n            \"search\": {\n                \"mode\": \"match\"\n            }\n        },\n        {\n            \"fullUrl\": \"https://concept01.ehealthexchange.org:52780/fhirproxy/r4/Observation/SH-72797275-q4625933\",\n            \"resource\": {\n                \"resourceType\": \"Observation\",\n                \"id\": \"SH-72797275-q4625933\",\n                \"meta\": {\n                    \"versionId\": \"72797275\",\n                    \"lastUpdated\": \"2018-01-24T21:55:06Z\"\n                },\n                \"text\": {\n                    \"status\": \"generated\",\n                    \"div\": \"<div xmlns=\\\"http://www.w3.org/1999/xhtml\\\"><p><b>Observation</b></p><p><b>Patient Id</b>: 12559994</p><p><b>Status</b>: Final</p><p><b>Categories</b>: Social History</p><p><b>Question</b>: SHX Injuries/Abuse in household</p><p><b>Response</b>: Yes</p><p><b>Issued Date</b>: Jan 24, 2018  3:55 P.M. CST</p></div>\"\n                },\n                \"status\": \"final\",\n                \"category\": [\n                    {\n                        \"coding\": [\n                            {\n                                \"system\": \"http://terminology.hl7.org/CodeSystem/observation-category\",\n                                \"code\": \"social-history\",\n                                \"display\": \"Social History\"\n                            }\n                        ],\n                        \"text\": \"Social History\"\n                    }\n                ],\n                \"code\": {\n                    \"coding\": [\n                        {\n                            \"system\": \"http://snomed.info/sct\",\n                            \"code\": \"386702006\",\n                            \"display\": \"Victim of abuse (finding)\",\n                            \"userSelected\": false\n                        }\n                    ],\n                    \"text\": \"SHX Injuries/Abuse in household\"\n                },\n                \"subject\": {\n                    \"reference\": \"Patient/12559994\"\n                },\n                \"effectiveDateTime\": \"2018-01-24T21:55:06Z\",\n                \"issued\": \"2018-01-24T21:55:06Z\",\n                \"performer\": [\n                    {\n                        \"reference\": \"Practitioner/917967\",\n                        \"display\": \"Cerner Test, Nurse Four Cerner\"\n                    }\n                ],\n                \"valueCodeableConcept\": {\n                    \"coding\": [\n                        {\n                            \"system\": \"http://snomed.info/sct\",\n                            \"code\": \"373066001\",\n                            \"display\": \"Yes (qualifier value)\"\n                        }\n                    ],\n                    \"text\": \"Yes\"\n                },\n                \"identifier\": [\n                    {\n                        \"use\": \"usual\",\n                        \"type\": {\n                            \"text\": \"Target responder resource fullUrl\"\n                        },\n                        \"system\": \"https://ehealthexchange.org/hub/internal/targetResponderFullUrl\",\n                        \"value\": \"https://fhir-ehr.cerner.com/r4/e8a84236-c258-4952-98b7-a6ff8a9c587a/Observation/SH-72797275-q4625933\"\n                    }\n                ]\n            },\n            \"search\": {\n                \"mode\": \"match\"\n            }\n        },\n        {\n            \"fullUrl\": \"https://concept01.ehealthexchange.org:52780/fhirproxy/r4/Observation/L-196297991\",\n            \"resource\": {\n                \"resourceType\": \"Observation\",\n                \"id\": \"L-196297991\",\n                \"meta\": {\n                    \"versionId\": \"2\",\n                    \"lastUpdated\": \"2018-01-24T21:55:08.000Z\"\n                },\n                \"text\": {\n                    \"status\": \"generated\",\n                    \"div\": \"<div xmlns=\\\"http://www.w3.org/1999/xhtml\\\"><p><b>Observation</b></p><p><b>Patient Id</b>: 12559994</p><p><b>Status</b>: Final</p><p><b>Code</b>: Advance Directive</p><p><b>Result</b>: No</p><p><b>Effective Date</b>: Jan 24, 2018  3:54 P.M. CST</p></div>\"\n                },\n                \"identifier\": [\n                    {\n                        \"system\": \"https://fhir.cerner.com/ceuuid\",\n                        \"value\": \"CE87caf4b7-9397-4667-9897-702218017c9e-196297991-2018012421544700\"\n                    },\n                    {\n                        \"use\": \"usual\",\n                        \"type\": {\n                            \"text\": \"Target responder resource fullUrl\"\n                        },\n                        \"system\": \"https://ehealthexchange.org/hub/internal/targetResponderFullUrl\",\n                        \"value\": \"https://fhir-ehr.cerner.com/r4/e8a84236-c258-4952-98b7-a6ff8a9c587a/Observation/L-196297991\"\n                    }\n                ],\n                \"status\": \"final\",\n                \"category\": [\n                    {\n                        \"extension\": [\n                            {\n                                \"valueCode\": \"unknown\",\n                                \"url\": \"http://hl7.org/fhir/StructureDefinition/data-absent-reason\"\n                            }\n                        ]\n                    }\n                ],\n                \"code\": {\n                    \"coding\": [\n                        {\n                            \"system\": \"https://fhir.cerner.com/e8a84236-c258-4952-98b7-a6ff8a9c587a/codeSet/72\",\n                            \"code\": \"704644\",\n                            \"display\": \"Advance Directive\",\n                            \"userSelected\": true\n                        },\n                        {\n                            \"system\": \"http://snomed.info/sct\",\n                            \"code\": \"425392003\",\n                            \"display\": \"Active advance directive (finding)\",\n                            \"userSelected\": false\n                        }\n                    ],\n                    \"text\": \"Advance Directive\"\n                },\n                \"subject\": {\n                    \"reference\": \"Patient/12559994\"\n                },\n                \"encounter\": {\n                    \"reference\": \"Encounter/97787420\"\n                },\n                \"effectiveDateTime\": \"2018-01-24T21:54:00.000Z\",\n                \"issued\": \"2018-01-24T21:54:38.000Z\",\n                \"performer\": [\n                    {\n                        \"extension\": [\n                            {\n                                \"valueCodeableConcept\": {\n                                    \"coding\": [\n                                        {\n                                            \"system\": \"http://terminology.hl7.org/CodeSystem/v3-ParticipationType\",\n                                            \"code\": \"PPRF\",\n                                            \"display\": \"primary performer\"\n                                        }\n                                    ],\n                                    \"text\": \"primary performer\"\n                                },\n                                \"url\": \"http://hl7.org/fhir/StructureDefinition/event-performerFunction\"\n                            }\n                        ],\n                        \"reference\": \"Practitioner/917967\"\n                    }\n                ],\n                \"valueCodeableConcept\": {\n                    \"text\": \"No\"\n                }\n            },\n            \"search\": {\n                \"mode\": \"match\"\n            }\n        }\n    ]\n}"
     },
     "execution_count": 133,
     "metadata": {},
     "output_type": "execute_result"
    }
   ],
   "source": [
    "observation_search_results = client.search('Observation', query_params={\n",
    "    'patient': patient['resource']['id']\n",
    "})\n",
    "\n",
    "Pretty(json.dumps(observation_search_results, indent=4))        "
   ]
  },
  {
   "cell_type": "markdown",
   "source": [
    "`Encounter` should have hospitalization status."
   ],
   "metadata": {
    "collapsed": false
   },
   "id": "6c15b61636068d2"
  },
  {
   "cell_type": "code",
   "execution_count": null,
   "id": "22d72c64-24fb-40ed-ae85-e451098f30fb",
   "metadata": {
    "ExecuteTime": {
     "start_time": "2024-01-16T21:20:42.247626Z"
    }
   },
   "outputs": [],
   "source": [
    "encounter_search_results = client.search('Encounter', query_params={\n",
    "    'patient': patient['resource']['id']\n",
    "})\n",
    "Pretty(json.dumps(encounter_search_results, indent=4))"
   ]
  },
  {
   "cell_type": "code",
   "outputs": [],
   "source": [
    "client.close()"
   ],
   "metadata": {
    "collapsed": false,
    "ExecuteTime": {
     "start_time": "2024-01-16T21:20:42.249319Z"
    }
   },
   "id": "700b058039da87f6",
   "execution_count": null
  }
 ],
 "metadata": {
  "kernelspec": {
   "display_name": "Python 3 (ipykernel)",
   "language": "python",
   "name": "python3"
  },
  "language_info": {
   "codemirror_mode": {
    "name": "ipython",
    "version": 3
   },
   "file_extension": ".py",
   "mimetype": "text/x-python",
   "name": "python",
   "nbconvert_exporter": "python",
   "pygments_lexer": "ipython3",
   "version": "3.12.1"
  }
 },
 "nbformat": 4,
 "nbformat_minor": 5
}
