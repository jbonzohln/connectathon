{
 "cells": [
  {
   "cell_type": "code",
   "execution_count": 6,
   "id": "c4195761-c853-4167-a3f5-b43062a87c76",
   "metadata": {
    "ExecuteTime": {
     "end_time": "2024-01-16T19:11:57.171149Z",
     "start_time": "2024-01-16T19:11:56.238863Z"
    }
   },
   "outputs": [
    {
     "name": "stdout",
     "output_type": "stream",
     "text": [
      "Note: you may need to restart the kernel to use updated packages.\n"
     ]
    }
   ],
   "source": [
    "pip install -q -r requirements.txt"
   ]
  },
  {
   "cell_type": "code",
   "execution_count": 7,
   "id": "ad6d1b7f-2d99-4949-893e-b17db6dbfa94",
   "metadata": {
    "ExecuteTime": {
     "end_time": "2024-01-16T19:11:57.171463Z",
     "start_time": "2024-01-16T19:11:57.157736Z"
    }
   },
   "outputs": [],
   "source": [
    "import logging\n",
    "import json\n",
    "from IPython.display import Pretty, HTML\n",
    "import urllib3\n",
    "\n",
    "from pyfhirclient.FhirClient import FhirClient\n",
    "\n",
    "logging.basicConfig()\n",
    "logging.getLogger().setLevel(logging.ERROR)\n",
    "\n",
    "# Disable the unverified HTTPS request warnings\n",
    "urllib3.disable_warnings()"
   ]
  },
  {
   "cell_type": "code",
   "execution_count": 8,
   "id": "ddae87dd-b946-49f4-90c6-35b8e939dc28",
   "metadata": {
    "ExecuteTime": {
     "end_time": "2024-01-16T19:11:57.171631Z",
     "start_time": "2024-01-16T19:11:57.160283Z"
    }
   },
   "outputs": [],
   "source": [
    "def setup_fhir_client() -> FhirClient:\n",
    "    fhir_client = FhirClient(\n",
    "        base_url='https://concept01.ehealthexchange.org:52780/fhirproxy/r4/',\n",
    "        verify_ssl=False,\n",
    "        extra_headers={\n",
    "            'X-DESTINATION': 'CernerHelios',\n",
    "            'X-POU': 'TREAT',\n",
    "            # 'Host': 'concept01.ehealthexchange.org:52780'\n",
    "        })\n",
    "\n",
    "    fhir_client.auth_type = 'Basic'\n",
    "    fhir_client.token = 'c3ZjX2VIeEZISVJTYW5kYm94OndpbGxmdWxTdHJvbmdTdGFuZHVyZDc'\n",
    "\n",
    "    return fhir_client"
   ]
  },
  {
   "cell_type": "code",
   "execution_count": 9,
   "id": "34093991-7c01-4024-b44d-b110b3832399",
   "metadata": {
    "ExecuteTime": {
     "end_time": "2024-01-16T19:11:58.053431Z",
     "start_time": "2024-01-16T19:11:57.163935Z"
    }
   },
   "outputs": [
    {
     "data": {
      "text/plain": "{\n    \"resourceType\": \"Bundle\",\n    \"id\": \"daf3542f-c1ae-4c37-ba9b-9a605b248cfd\",\n    \"type\": \"searchset\",\n    \"total\": 0,\n    \"link\": [\n        {\n            \"relation\": \"self\",\n            \"url\": \"https://fhir-ehr.cerner.com/r4/e8a84236-c258-4952-98b7-a6ff8a9c587a/Patient?family=Blackstone&given=Veronica\"\n        }\n    ]\n}"
     },
     "execution_count": 9,
     "metadata": {},
     "output_type": "execute_result"
    }
   ],
   "source": [
    "client = setup_fhir_client()\n",
    "\n",
    "search_results = client.search('Patient', {\n",
    "    'family': 'Blackstone',\n",
    "    'given': 'Veronica'\n",
    "})\n",
    "Pretty(json.dumps(search_results, indent=4))"
   ]
  },
  {
   "cell_type": "markdown",
   "source": [
    "There should be exactly one `Patient` matching the search."
   ],
   "metadata": {
    "collapsed": false
   },
   "id": "67ff53180d9d8061"
  },
  {
   "cell_type": "code",
   "outputs": [
    {
     "ename": "KeyError",
     "evalue": "'entry'",
     "output_type": "error",
     "traceback": [
      "\u001B[0;31m---------------------------------------------------------------------------\u001B[0m",
      "\u001B[0;31mKeyError\u001B[0m                                  Traceback (most recent call last)",
      "Cell \u001B[0;32mIn[10], line 1\u001B[0m\n\u001B[0;32m----> 1\u001B[0m patient \u001B[38;5;241m=\u001B[39m \u001B[43msearch_results\u001B[49m\u001B[43m[\u001B[49m\u001B[38;5;124;43m'\u001B[39;49m\u001B[38;5;124;43mentry\u001B[39;49m\u001B[38;5;124;43m'\u001B[39;49m\u001B[43m]\u001B[49m[\u001B[38;5;241m0\u001B[39m]\n\u001B[1;32m      2\u001B[0m Pretty(json\u001B[38;5;241m.\u001B[39mdumps(patient, indent\u001B[38;5;241m=\u001B[39m\u001B[38;5;241m4\u001B[39m))\n",
      "\u001B[0;31mKeyError\u001B[0m: 'entry'"
     ]
    }
   ],
   "source": [
    "patient = search_results['entry'][0]\n",
    "Pretty(json.dumps(patient, indent=4))"
   ],
   "metadata": {
    "collapsed": false,
    "ExecuteTime": {
     "end_time": "2024-01-16T19:11:58.053952Z",
     "start_time": "2024-01-16T19:11:58.041994Z"
    }
   },
   "id": "b70e48db58013b82",
   "execution_count": 10
  },
  {
   "cell_type": "code",
   "execution_count": null,
   "id": "96985a07-c25a-4078-afd7-eab7e46edba9",
   "metadata": {
    "ExecuteTime": {
     "end_time": "2024-01-16T19:11:58.055918Z",
     "start_time": "2024-01-16T19:11:58.054761Z"
    }
   },
   "outputs": [],
   "source": [
    "HTML(patient['resource']['text']['div'])"
   ]
  },
  {
   "cell_type": "code",
   "outputs": [],
   "source": [
    "everything = client.everything('Patient', patient['resource']['id'], count=1000)\n",
    "Pretty(json.dumps(everything, indent=4))"
   ],
   "metadata": {
    "collapsed": false,
    "ExecuteTime": {
     "end_time": "2024-01-16T19:11:58.072307Z",
     "start_time": "2024-01-16T19:11:58.057018Z"
    }
   },
   "id": "3e26e4d2d0a01080",
   "execution_count": null
  },
  {
   "cell_type": "markdown",
   "source": [
    "`MedicationAdministration` should have the medications administered to this Patient."
   ],
   "metadata": {
    "collapsed": false
   },
   "id": "dbb766e67639356a"
  },
  {
   "cell_type": "code",
   "execution_count": null,
   "id": "52d167dc-37ed-4c92-9cb1-6b6863cac112",
   "metadata": {
    "ExecuteTime": {
     "start_time": "2024-01-16T19:11:58.058869Z"
    }
   },
   "outputs": [],
   "source": [
    "medication_administration_results = client.search('MedicationAdministration', query_params={\n",
    "    'patient': patient['resource']['id']\n",
    "})\n",
    "Pretty(json.dumps(medication_administration_results, indent=4))"
   ]
  },
  {
   "cell_type": "markdown",
   "source": [
    "`Observation` should have lab test results, and pregnancy status."
   ],
   "metadata": {
    "collapsed": false
   },
   "id": "2b291fb90493cce0"
  },
  {
   "cell_type": "code",
   "execution_count": null,
   "id": "afe5cd62-6cc3-45fd-8804-8331c8baac58",
   "metadata": {
    "ExecuteTime": {
     "start_time": "2024-01-16T19:11:58.060450Z"
    }
   },
   "outputs": [],
   "source": [
    "observation_search_results = client.search('Observation', query_params={\n",
    "    'patient': patient['resource']['id']\n",
    "})\n",
    "\n",
    "Pretty(json.dumps(observation_search_results, indent=4))        "
   ]
  },
  {
   "cell_type": "markdown",
   "source": [
    "`Encounter` should have hospitalization status."
   ],
   "metadata": {
    "collapsed": false
   },
   "id": "6c15b61636068d2"
  },
  {
   "cell_type": "code",
   "execution_count": null,
   "id": "22d72c64-24fb-40ed-ae85-e451098f30fb",
   "metadata": {
    "ExecuteTime": {
     "start_time": "2024-01-16T19:11:58.061409Z"
    }
   },
   "outputs": [],
   "source": [
    "encounter_search_results = client.search('Encounter', query_params={\n",
    "    'patient': patient['resource']['id']\n",
    "})\n",
    "Pretty(json.dumps(encounter_search_results, indent=4))"
   ]
  },
  {
   "cell_type": "code",
   "outputs": [],
   "source": [
    "client.close()"
   ],
   "metadata": {
    "collapsed": false,
    "ExecuteTime": {
     "start_time": "2024-01-16T19:11:58.062341Z"
    }
   },
   "id": "700b058039da87f6",
   "execution_count": null
  }
 ],
 "metadata": {
  "kernelspec": {
   "display_name": "Python 3 (ipykernel)",
   "language": "python",
   "name": "python3"
  },
  "language_info": {
   "codemirror_mode": {
    "name": "ipython",
    "version": 3
   },
   "file_extension": ".py",
   "mimetype": "text/x-python",
   "name": "python",
   "nbconvert_exporter": "python",
   "pygments_lexer": "ipython3",
   "version": "3.12.1"
  }
 },
 "nbformat": 4,
 "nbformat_minor": 5
}
