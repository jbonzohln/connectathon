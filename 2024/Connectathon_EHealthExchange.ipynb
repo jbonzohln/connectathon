{
 "cells": [
  {
   "cell_type": "code",
   "execution_count": null,
   "id": "c4195761-c853-4167-a3f5-b43062a87c76",
   "metadata": {},
   "outputs": [],
   "source": [
    "pip install -q -r requirements.txt"
   ]
  },
  {
   "cell_type": "code",
   "execution_count": null,
   "id": "ad6d1b7f-2d99-4949-893e-b17db6dbfa94",
   "metadata": {},
   "outputs": [],
   "source": [
    "import logging\n",
    "import json\n",
    "from IPython.display import Pretty, HTML\n",
    "import urllib3\n",
    "\n",
    "from FhirClient import FhirClient\n",
    "\n",
    "logging.basicConfig()\n",
    "logging.getLogger().setLevel(logging.ERROR)\n",
    "\n",
    "# Disable the unverified HTTPS request warnings\n",
    "urllib3.disable_warnings()"
   ]
  },
  {
   "cell_type": "code",
   "execution_count": null,
   "id": "ddae87dd-b946-49f4-90c6-35b8e939dc28",
   "metadata": {},
   "outputs": [],
   "source": [
    "def setup_fhir_client() -> FhirClient:\n",
    "    fhir_client = FhirClient(\n",
    "        base_url='https://concept01.ehealthexchange.org:52780/fhirproxy/r4/',\n",
    "        verify_ssl=False,\n",
    "        extra_headers={\n",
    "            'X-DESTINATION': 'PublicHAPI',\n",
    "            'X-POU': 'TREAT',\n",
    "            'Host': 'concept01.ehealthexchange.org:52780'\n",
    "        })\n",
    "\n",
    "    fhir_client.auth_type = 'Basic'\n",
    "    fhir_client.token = 'c3ZjX2VIeEZISVJTYW5kYm94OndpbGxmdWxTdHJvbmdTdGFuZHVyZDc'\n",
    "\n",
    "    return fhir_client"
   ]
  },
  {
   "cell_type": "code",
   "execution_count": null,
   "id": "34093991-7c01-4024-b44d-b110b3832399",
   "metadata": {},
   "outputs": [],
   "source": [
    "client = setup_fhir_client()\n",
    "\n",
    "search_results = client.search('Patient', {\n",
    "    'family': 'Sanity',\n",
    "    'gender': 'male',\n",
    "    'birthdate': '1919-11-03',\n",
    "    'address-state': 'MH',\n",
    "})\n",
    "Pretty(json.dumps(search_results, indent=4))"
   ]
  },
  {
   "cell_type": "markdown",
   "source": [
    "There should be exactly one `Patient` matching the search."
   ],
   "metadata": {
    "collapsed": false
   },
   "id": "67ff53180d9d8061"
  },
  {
   "cell_type": "code",
   "outputs": [],
   "source": [
    "patient = search_results['entry'][0]\n",
    "Pretty(json.dumps(patient, indent=4))"
   ],
   "metadata": {
    "collapsed": false
   },
   "id": "b70e48db58013b82",
   "execution_count": null
  },
  {
   "cell_type": "code",
   "execution_count": null,
   "id": "96985a07-c25a-4078-afd7-eab7e46edba9",
   "metadata": {},
   "outputs": [],
   "source": [
    "HTML(patient['resource']['text']['div'])"
   ]
  },
  {
   "cell_type": "markdown",
   "source": [
    "`MedicationAdministration` should have the medications administered to this Patient."
   ],
   "metadata": {
    "collapsed": false
   },
   "id": "dbb766e67639356a"
  },
  {
   "cell_type": "code",
   "execution_count": null,
   "id": "52d167dc-37ed-4c92-9cb1-6b6863cac112",
   "metadata": {},
   "outputs": [],
   "source": [
    "medication_administration_results = client.search('MedicationAdministration', query_params={\n",
    "    'patient': patient['resource']['id']\n",
    "})\n",
    "Pretty(json.dumps(medication_administration_results, indent=4))"
   ]
  },
  {
   "cell_type": "markdown",
   "source": [
    "`Observation` should have lab test results, and pregnancy status."
   ],
   "metadata": {
    "collapsed": false
   },
   "id": "2b291fb90493cce0"
  },
  {
   "cell_type": "code",
   "execution_count": null,
   "id": "afe5cd62-6cc3-45fd-8804-8331c8baac58",
   "metadata": {},
   "outputs": [],
   "source": [
    "observation_search_results = client.search('Observation', query_params={\n",
    "    'patient': patient['resource']['id']\n",
    "})\n",
    "Pretty(json.dumps(observation_search_results, indent=4))"
   ]
  },
  {
   "cell_type": "markdown",
   "source": [
    "`Encounter` should have hospitalization status."
   ],
   "metadata": {
    "collapsed": false
   },
   "id": "6c15b61636068d2"
  },
  {
   "cell_type": "code",
   "execution_count": null,
   "id": "22d72c64-24fb-40ed-ae85-e451098f30fb",
   "metadata": {},
   "outputs": [],
   "source": [
    "encounter_search_results = client.search('Encounter', query_params={\n",
    "    'patient': patient['resource']['id']\n",
    "})\n",
    "Pretty(json.dumps(encounter_search_results, indent=4))"
   ]
  },
  {
   "cell_type": "code",
   "outputs": [],
   "source": [
    "client.close()"
   ],
   "metadata": {
    "collapsed": false
   },
   "id": "700b058039da87f6",
   "execution_count": null
  }
 ],
 "metadata": {
  "kernelspec": {
   "display_name": "Python 3 (ipykernel)",
   "language": "python",
   "name": "python3"
  },
  "language_info": {
   "codemirror_mode": {
    "name": "ipython",
    "version": 3
   },
   "file_extension": ".py",
   "mimetype": "text/x-python",
   "name": "python",
   "nbconvert_exporter": "python",
   "pygments_lexer": "ipython3",
   "version": "3.12.1"
  }
 },
 "nbformat": 4,
 "nbformat_minor": 5
}
