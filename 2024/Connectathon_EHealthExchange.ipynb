{
 "cells": [
  {
   "cell_type": "code",
   "execution_count": 9,
   "id": "c4195761-c853-4167-a3f5-b43062a87c76",
   "metadata": {
    "ExecuteTime": {
     "end_time": "2024-01-10T18:24:48.430543Z",
     "start_time": "2024-01-10T18:24:47.688994Z"
    }
   },
   "outputs": [
    {
     "name": "stdout",
     "output_type": "stream",
     "text": [
      "Note: you may need to restart the kernel to use updated packages.\n"
     ]
    }
   ],
   "source": [
    "pip install -q -r requirements.txt"
   ]
  },
  {
   "cell_type": "code",
   "execution_count": 10,
   "id": "ad6d1b7f-2d99-4949-893e-b17db6dbfa94",
   "metadata": {
    "ExecuteTime": {
     "end_time": "2024-01-10T18:24:48.434479Z",
     "start_time": "2024-01-10T18:24:48.429608Z"
    }
   },
   "outputs": [],
   "source": [
    "import configparser\n",
    "import logging\n",
    "import os\n",
    "import json\n",
    "from datetime import datetime, timedelta\n",
    "\n",
    "from FhirClient import FhirClient\n",
    "\n",
    "logging.basicConfig()\n",
    "logging.getLogger().setLevel(logging.WARNING)"
   ]
  },
  {
   "cell_type": "code",
   "execution_count": 11,
   "id": "ddae87dd-b946-49f4-90c6-35b8e939dc28",
   "metadata": {
    "ExecuteTime": {
     "end_time": "2024-01-10T18:24:48.434775Z",
     "start_time": "2024-01-10T18:24:48.431335Z"
    }
   },
   "outputs": [],
   "source": [
    "def setup_fhir_client() -> FhirClient:\n",
    "    fhir_client = FhirClient(base_url='https://concept01.ehealthexchange.org:52780/fhirproxy/r4/',\n",
    "                        verify_ssl=False,\n",
    "                        extra_headers={\n",
    "                            'X-DESTINATION': 'PublicHAPI',\n",
    "                            'X-POU': 'TREAT',\n",
    "                            'Host': 'concept01.ehealthexchange.org:52780'\n",
    "                        })\n",
    "    \n",
    "    fhir_client.auth_type = 'Basic'\n",
    "    fhir_client.token = 'c3ZjX2VIeEZISVJTYW5kYm94OndpbGxmdWxTdHJvbmdTdGFuZHVyZDc'\n",
    "\n",
    "    return fhir_client"
   ]
  },
  {
   "cell_type": "code",
   "execution_count": 12,
   "id": "34093991-7c01-4024-b44d-b110b3832399",
   "metadata": {
    "ExecuteTime": {
     "end_time": "2024-01-10T18:24:48.823804Z",
     "start_time": "2024-01-10T18:24:48.435989Z"
    }
   },
   "outputs": [
    {
     "name": "stderr",
     "output_type": "stream",
     "text": [
      "/Users/jesse/PycharmProjects/ConnectathonQueryResponse/.venv/lib/python3.12/site-packages/urllib3/connectionpool.py:1099: InsecureRequestWarning: Unverified HTTPS request is being made to host 'concept01.ehealthexchange.org'. Adding certificate verification is strongly advised. See: https://urllib3.readthedocs.io/en/latest/advanced-usage.html#tls-warnings\n",
      "  warnings.warn(\n"
     ]
    }
   ],
   "source": [
    "with setup_fhir_client() as client:\n",
    "    search_results = client.search('Patient', {\n",
    "        'family': 'Sanity',\n",
    "        'gender': 'male',\n",
    "        'address-state': 'MH',\n",
    "    })"
   ]
  },
  {
   "cell_type": "code",
   "execution_count": 13,
   "id": "96985a07-c25a-4078-afd7-eab7e46edba9",
   "metadata": {
    "ExecuteTime": {
     "end_time": "2024-01-10T18:24:48.828451Z",
     "start_time": "2024-01-10T18:24:48.825034Z"
    }
   },
   "outputs": [],
   "source": [
    "patient = search_results['entry'][0]\n",
    "logging.info(json.dumps(patient, indent=4))"
   ]
  },
  {
   "cell_type": "code",
   "execution_count": 14,
   "id": "52d167dc-37ed-4c92-9cb1-6b6863cac112",
   "metadata": {
    "ExecuteTime": {
     "end_time": "2024-01-10T18:24:49.820750Z",
     "start_time": "2024-01-10T18:24:48.828181Z"
    }
   },
   "outputs": [
    {
     "name": "stderr",
     "output_type": "stream",
     "text": [
      "/Users/jesse/PycharmProjects/ConnectathonQueryResponse/.venv/lib/python3.12/site-packages/urllib3/connectionpool.py:1099: InsecureRequestWarning: Unverified HTTPS request is being made to host 'concept01.ehealthexchange.org'. Adding certificate verification is strongly advised. See: https://urllib3.readthedocs.io/en/latest/advanced-usage.html#tls-warnings\n",
      "  warnings.warn(\n"
     ]
    },
    {
     "data": {
      "text/plain": "{'resourceType': 'Bundle',\n 'id': 'afb2c174-b5b3-4b30-a6f6-6973ac981dac',\n 'meta': {'lastUpdated': '2024-01-10T18:24:30.177+00:00'},\n 'type': 'searchset',\n 'total': 0,\n 'link': [{'relation': 'self',\n   'url': 'https://hapi.fhir.org/baseR4/MedicationAdministration?patient=592578'}]}"
     },
     "execution_count": 14,
     "metadata": {},
     "output_type": "execute_result"
    }
   ],
   "source": [
    "client.search('MedicationAdministration', query_params={\n",
    "            'patient': patient['resource']['id']\n",
    "})"
   ]
  },
  {
   "cell_type": "code",
   "execution_count": 15,
   "id": "afe5cd62-6cc3-45fd-8804-8331c8baac58",
   "metadata": {
    "ExecuteTime": {
     "end_time": "2024-01-10T18:24:50.848208Z",
     "start_time": "2024-01-10T18:24:49.816206Z"
    }
   },
   "outputs": [
    {
     "name": "stderr",
     "output_type": "stream",
     "text": [
      "/Users/jesse/PycharmProjects/ConnectathonQueryResponse/.venv/lib/python3.12/site-packages/urllib3/connectionpool.py:1099: InsecureRequestWarning: Unverified HTTPS request is being made to host 'concept01.ehealthexchange.org'. Adding certificate verification is strongly advised. See: https://urllib3.readthedocs.io/en/latest/advanced-usage.html#tls-warnings\n",
      "  warnings.warn(\n"
     ]
    },
    {
     "data": {
      "text/plain": "{'resourceType': 'Bundle',\n 'id': 'f4129f14-8da5-45e8-abaa-8dd6fff00aec',\n 'meta': {'lastUpdated': '2024-01-10T18:24:31.180+00:00'},\n 'type': 'searchset',\n 'total': 4,\n 'link': [{'relation': 'self',\n   'url': 'https://hapi.fhir.org/baseR4/Observation?patient=592578'}],\n 'entry': [{'fullUrl': 'https://concept01.ehealthexchange.org:52780/fhirproxy/r4/Observation/10306938',\n   'resource': {'resourceType': 'Observation',\n    'id': '10306938',\n    'meta': {'versionId': '1',\n     'lastUpdated': '2023-04-19T09:59:29.950+00:00',\n     'source': '#oYLJWp5ROmXi9xOP'},\n    'code': {'coding': [{'system': 'http://foo', 'code': '12345'}]},\n    'subject': {'reference': 'Patient/592578'},\n    'effectiveDateTime': '2023-04-19T09:34:50+01:00',\n    'valueQuantity': {'value': 123,\n     'unit': 'kg',\n     'system': 'http://bar',\n     'code': 'kg'},\n    'identifier': [{'use': 'usual',\n      'type': {'text': 'Target responder resource fullUrl'},\n      'system': 'https://ehealthexchange.org/hub/internal/targetResponderFullUrl',\n      'value': 'https://hapi.fhir.org/baseR4/Observation/10306938'}]},\n   'search': {'mode': 'match'}},\n  {'fullUrl': 'https://concept01.ehealthexchange.org:52780/fhirproxy/r4/Observation/10311938',\n   'resource': {'resourceType': 'Observation',\n    'id': '10311938',\n    'meta': {'versionId': '1',\n     'lastUpdated': '2023-04-19T10:02:48.236+00:00',\n     'source': '#ZdThPRo7wqqIHTQR'},\n    'code': {'coding': [{'system': 'http://foo', 'code': '12345'}]},\n    'subject': {'reference': 'Patient/592578'},\n    'effectiveDateTime': '2023-04-19T09:34:50+01:00',\n    'valueQuantity': {'value': 123,\n     'unit': 'kg',\n     'system': 'http://bar',\n     'code': 'kg'},\n    'identifier': [{'use': 'usual',\n      'type': {'text': 'Target responder resource fullUrl'},\n      'system': 'https://ehealthexchange.org/hub/internal/targetResponderFullUrl',\n      'value': 'https://hapi.fhir.org/baseR4/Observation/10311938'}]},\n   'search': {'mode': 'match'}},\n  {'fullUrl': 'https://concept01.ehealthexchange.org:52780/fhirproxy/r4/Observation/10316941',\n   'resource': {'resourceType': 'Observation',\n    'id': '10316941',\n    'meta': {'versionId': '1',\n     'lastUpdated': '2023-04-19T10:05:32.418+00:00',\n     'source': '#LywcsXSEMx7zuuc4'},\n    'code': {'coding': [{'system': 'http://foo', 'code': '12345'}]},\n    'subject': {'reference': 'Patient/592578'},\n    'effectiveDateTime': '2023-04-19T09:34:50+01:00',\n    'valueQuantity': {'value': 123,\n     'unit': 'kg',\n     'system': 'http://bar',\n     'code': 'kg'},\n    'identifier': [{'use': 'usual',\n      'type': {'text': 'Target responder resource fullUrl'},\n      'system': 'https://ehealthexchange.org/hub/internal/targetResponderFullUrl',\n      'value': 'https://hapi.fhir.org/baseR4/Observation/10316941'}]},\n   'search': {'mode': 'match'}},\n  {'fullUrl': 'https://concept01.ehealthexchange.org:52780/fhirproxy/r4/Observation/10321931',\n   'resource': {'resourceType': 'Observation',\n    'id': '10321931',\n    'meta': {'versionId': '1',\n     'lastUpdated': '2023-04-19T10:08:07.465+00:00',\n     'source': '#X6IgPN04mP4borkO'},\n    'code': {'coding': [{'system': 'http://foo', 'code': '12345'}]},\n    'subject': {'reference': 'Patient/592578'},\n    'effectiveDateTime': '2023-04-19T09:34:50+01:00',\n    'valueQuantity': {'value': 123,\n     'unit': 'kg',\n     'system': 'http://bar',\n     'code': 'kg'},\n    'identifier': [{'use': 'usual',\n      'type': {'text': 'Target responder resource fullUrl'},\n      'system': 'https://ehealthexchange.org/hub/internal/targetResponderFullUrl',\n      'value': 'https://hapi.fhir.org/baseR4/Observation/10321931'}]},\n   'search': {'mode': 'match'}}]}"
     },
     "execution_count": 15,
     "metadata": {},
     "output_type": "execute_result"
    }
   ],
   "source": [
    "client.search('Observation', query_params={\n",
    "            'patient': patient['resource']['id']\n",
    "})"
   ]
  },
  {
   "cell_type": "code",
   "execution_count": 16,
   "id": "22d72c64-24fb-40ed-ae85-e451098f30fb",
   "metadata": {
    "ExecuteTime": {
     "end_time": "2024-01-10T18:24:51.816571Z",
     "start_time": "2024-01-10T18:24:50.850975Z"
    }
   },
   "outputs": [
    {
     "name": "stderr",
     "output_type": "stream",
     "text": [
      "/Users/jesse/PycharmProjects/ConnectathonQueryResponse/.venv/lib/python3.12/site-packages/urllib3/connectionpool.py:1099: InsecureRequestWarning: Unverified HTTPS request is being made to host 'concept01.ehealthexchange.org'. Adding certificate verification is strongly advised. See: https://urllib3.readthedocs.io/en/latest/advanced-usage.html#tls-warnings\n",
      "  warnings.warn(\n"
     ]
    },
    {
     "data": {
      "text/plain": "{'resourceType': 'Bundle',\n 'id': '691c02c8-10fa-44cd-8bad-6e57d11377b9',\n 'meta': {'lastUpdated': '2024-01-10T18:24:32.179+00:00'},\n 'type': 'searchset',\n 'total': 0,\n 'link': [{'relation': 'self',\n   'url': 'https://hapi.fhir.org/baseR4/Encounter?patient=592578'}]}"
     },
     "execution_count": 16,
     "metadata": {},
     "output_type": "execute_result"
    }
   ],
   "source": [
    "client.search('Encounter', query_params={\n",
    "            'patient': patient['resource']['id']\n",
    "})"
   ]
  }
 ],
 "metadata": {
  "kernelspec": {
   "display_name": "Python 3 (ipykernel)",
   "language": "python",
   "name": "python3"
  },
  "language_info": {
   "codemirror_mode": {
    "name": "ipython",
    "version": 3
   },
   "file_extension": ".py",
   "mimetype": "text/x-python",
   "name": "python",
   "nbconvert_exporter": "python",
   "pygments_lexer": "ipython3",
   "version": "3.12.1"
  }
 },
 "nbformat": 4,
 "nbformat_minor": 5
}
