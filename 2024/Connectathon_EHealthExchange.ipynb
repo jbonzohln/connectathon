{
 "cells": [
  {
   "cell_type": "code",
   "execution_count": 27,
   "id": "c4195761-c853-4167-a3f5-b43062a87c76",
   "metadata": {
    "ExecuteTime": {
     "end_time": "2024-01-10T18:31:57.634607Z",
     "start_time": "2024-01-10T18:31:56.795051Z"
    }
   },
   "outputs": [
    {
     "name": "stdout",
     "output_type": "stream",
     "text": [
      "Note: you may need to restart the kernel to use updated packages.\n"
     ]
    }
   ],
   "source": [
    "pip install -q -r requirements.txt"
   ]
  },
  {
   "cell_type": "code",
   "execution_count": 28,
   "id": "ad6d1b7f-2d99-4949-893e-b17db6dbfa94",
   "metadata": {
    "ExecuteTime": {
     "end_time": "2024-01-10T18:31:57.638625Z",
     "start_time": "2024-01-10T18:31:57.633182Z"
    }
   },
   "outputs": [],
   "source": [
    "import logging\n",
    "import json\n",
    "\n",
    "from FhirClient import FhirClient\n",
    "\n",
    "logging.basicConfig()\n",
    "logging.getLogger().setLevel(logging.WARNING)"
   ]
  },
  {
   "cell_type": "code",
   "execution_count": 29,
   "id": "ddae87dd-b946-49f4-90c6-35b8e939dc28",
   "metadata": {
    "ExecuteTime": {
     "end_time": "2024-01-10T18:31:57.638960Z",
     "start_time": "2024-01-10T18:31:57.635424Z"
    }
   },
   "outputs": [],
   "source": [
    "def setup_fhir_client() -> FhirClient:\n",
    "    fhir_client = FhirClient(base_url='https://concept01.ehealthexchange.org:52780/fhirproxy/r4/',\n",
    "                        verify_ssl=False,\n",
    "                        extra_headers={\n",
    "                            'X-DESTINATION': 'PublicHAPI',\n",
    "                            'X-POU': 'TREAT',\n",
    "                            'Host': 'concept01.ehealthexchange.org:52780'\n",
    "                        })\n",
    "    \n",
    "    fhir_client.auth_type = 'Basic'\n",
    "    fhir_client.token = 'c3ZjX2VIeEZISVJTYW5kYm94OndpbGxmdWxTdHJvbmdTdGFuZHVyZDc'\n",
    "\n",
    "    return fhir_client"
   ]
  },
  {
   "cell_type": "code",
   "execution_count": 30,
   "id": "34093991-7c01-4024-b44d-b110b3832399",
   "metadata": {
    "ExecuteTime": {
     "end_time": "2024-01-10T18:31:58.035426Z",
     "start_time": "2024-01-10T18:31:57.640081Z"
    }
   },
   "outputs": [
    {
     "name": "stderr",
     "output_type": "stream",
     "text": [
      "/Library/Frameworks/Python.framework/Versions/3.12/lib/python3.12/site-packages/urllib3/connectionpool.py:1099: InsecureRequestWarning: Unverified HTTPS request is being made to host 'concept01.ehealthexchange.org'. Adding certificate verification is strongly advised. See: https://urllib3.readthedocs.io/en/latest/advanced-usage.html#tls-warnings\n",
      "  warnings.warn(\n"
     ]
    }
   ],
   "source": [
    "client = setup_fhir_client()\n",
    "search_results = client.search('Patient', {\n",
    "    'family': 'Sanity',\n",
    "    'gender': 'male',\n",
    "    'address-state': 'MH',\n",
    "})"
   ]
  },
  {
   "cell_type": "code",
   "execution_count": 36,
   "id": "96985a07-c25a-4078-afd7-eab7e46edba9",
   "metadata": {
    "ExecuteTime": {
     "end_time": "2024-01-10T18:32:05.848957Z",
     "start_time": "2024-01-10T18:32:05.844796Z"
    }
   },
   "outputs": [
    {
     "data": {
      "text/plain": "{'fullUrl': 'https://concept01.ehealthexchange.org:52780/fhirproxy/r4/Patient/592578',\n 'resource': {'resourceType': 'Patient',\n  'id': '592578',\n  'meta': {'versionId': '3',\n   'lastUpdated': '2023-09-01T21:40:21.291+00:00',\n   'source': '#Dr3UQWhWSQXRlglj'},\n  'text': {'status': 'generated',\n   'div': '<div xmlns=\"http://www.w3.org/1999/xhtml\"><div class=\"hapiHeaderText\">TestforPatientR4 <b>SANITY </b></div><table class=\"hapiPropertyTable\"><tbody><tr><td>Date of birth</td><td><span>03 November 1919</span></td></tr></tbody></table></div>'},\n  'name': [{'family': 'Sanity', 'given': ['TestforPatientR4']}],\n  'gender': 'male',\n  'birthDate': '1919-11-03',\n  'address': [{'city': 'Pune', 'district': 'Pune', 'state': 'MH'}],\n  'identifier': [{'use': 'usual',\n    'type': {'text': 'Target responder resource fullUrl'},\n    'system': 'https://ehealthexchange.org/hub/internal/targetResponderFullUrl',\n    'value': 'https://hapi.fhir.org/baseR4/Patient/592578'}]},\n 'search': {'mode': 'match'}}"
     },
     "execution_count": 36,
     "metadata": {},
     "output_type": "execute_result"
    }
   ],
   "source": [
    "patient = search_results['entry'][0]\n",
    "patient"
   ]
  },
  {
   "cell_type": "code",
   "execution_count": 32,
   "id": "52d167dc-37ed-4c92-9cb1-6b6863cac112",
   "metadata": {
    "ExecuteTime": {
     "end_time": "2024-01-10T18:31:59.033844Z",
     "start_time": "2024-01-10T18:31:58.038425Z"
    }
   },
   "outputs": [
    {
     "name": "stderr",
     "output_type": "stream",
     "text": [
      "/Library/Frameworks/Python.framework/Versions/3.12/lib/python3.12/site-packages/urllib3/connectionpool.py:1099: InsecureRequestWarning: Unverified HTTPS request is being made to host 'concept01.ehealthexchange.org'. Adding certificate verification is strongly advised. See: https://urllib3.readthedocs.io/en/latest/advanced-usage.html#tls-warnings\n",
      "  warnings.warn(\n"
     ]
    },
    {
     "data": {
      "text/plain": "{'resourceType': 'Bundle',\n 'id': 'd6d645fa-7bfc-4ff3-bb5b-fa5a1c7332c7',\n 'meta': {'lastUpdated': '2024-01-10T18:31:05.298+00:00'},\n 'type': 'searchset',\n 'total': 0,\n 'link': [{'relation': 'self',\n   'url': 'https://hapi.fhir.org/baseR4/MedicationAdministration?patient=592578'}]}"
     },
     "execution_count": 32,
     "metadata": {},
     "output_type": "execute_result"
    }
   ],
   "source": [
    "client.search('MedicationAdministration', query_params={\n",
    "            'patient': patient['resource']['id']\n",
    "})"
   ]
  },
  {
   "cell_type": "code",
   "execution_count": 33,
   "id": "afe5cd62-6cc3-45fd-8804-8331c8baac58",
   "metadata": {
    "ExecuteTime": {
     "end_time": "2024-01-10T18:32:00.055127Z",
     "start_time": "2024-01-10T18:31:59.037365Z"
    }
   },
   "outputs": [
    {
     "name": "stderr",
     "output_type": "stream",
     "text": [
      "/Library/Frameworks/Python.framework/Versions/3.12/lib/python3.12/site-packages/urllib3/connectionpool.py:1099: InsecureRequestWarning: Unverified HTTPS request is being made to host 'concept01.ehealthexchange.org'. Adding certificate verification is strongly advised. See: https://urllib3.readthedocs.io/en/latest/advanced-usage.html#tls-warnings\n",
      "  warnings.warn(\n"
     ]
    },
    {
     "data": {
      "text/plain": "{'resourceType': 'Bundle',\n 'id': 'bf834e31-45c8-4fcb-8892-bcf71eb00b56',\n 'meta': {'lastUpdated': '2024-01-10T18:31:06.298+00:00'},\n 'type': 'searchset',\n 'total': 4,\n 'link': [{'relation': 'self',\n   'url': 'https://hapi.fhir.org/baseR4/Observation?patient=592578'}],\n 'entry': [{'fullUrl': 'https://concept01.ehealthexchange.org:52780/fhirproxy/r4/Observation/10306938',\n   'resource': {'resourceType': 'Observation',\n    'id': '10306938',\n    'meta': {'versionId': '1',\n     'lastUpdated': '2023-04-19T09:59:29.950+00:00',\n     'source': '#oYLJWp5ROmXi9xOP'},\n    'code': {'coding': [{'system': 'http://foo', 'code': '12345'}]},\n    'subject': {'reference': 'Patient/592578'},\n    'effectiveDateTime': '2023-04-19T09:34:50+01:00',\n    'valueQuantity': {'value': 123,\n     'unit': 'kg',\n     'system': 'http://bar',\n     'code': 'kg'},\n    'identifier': [{'use': 'usual',\n      'type': {'text': 'Target responder resource fullUrl'},\n      'system': 'https://ehealthexchange.org/hub/internal/targetResponderFullUrl',\n      'value': 'https://hapi.fhir.org/baseR4/Observation/10306938'}]},\n   'search': {'mode': 'match'}},\n  {'fullUrl': 'https://concept01.ehealthexchange.org:52780/fhirproxy/r4/Observation/10311938',\n   'resource': {'resourceType': 'Observation',\n    'id': '10311938',\n    'meta': {'versionId': '1',\n     'lastUpdated': '2023-04-19T10:02:48.236+00:00',\n     'source': '#ZdThPRo7wqqIHTQR'},\n    'code': {'coding': [{'system': 'http://foo', 'code': '12345'}]},\n    'subject': {'reference': 'Patient/592578'},\n    'effectiveDateTime': '2023-04-19T09:34:50+01:00',\n    'valueQuantity': {'value': 123,\n     'unit': 'kg',\n     'system': 'http://bar',\n     'code': 'kg'},\n    'identifier': [{'use': 'usual',\n      'type': {'text': 'Target responder resource fullUrl'},\n      'system': 'https://ehealthexchange.org/hub/internal/targetResponderFullUrl',\n      'value': 'https://hapi.fhir.org/baseR4/Observation/10311938'}]},\n   'search': {'mode': 'match'}},\n  {'fullUrl': 'https://concept01.ehealthexchange.org:52780/fhirproxy/r4/Observation/10316941',\n   'resource': {'resourceType': 'Observation',\n    'id': '10316941',\n    'meta': {'versionId': '1',\n     'lastUpdated': '2023-04-19T10:05:32.418+00:00',\n     'source': '#LywcsXSEMx7zuuc4'},\n    'code': {'coding': [{'system': 'http://foo', 'code': '12345'}]},\n    'subject': {'reference': 'Patient/592578'},\n    'effectiveDateTime': '2023-04-19T09:34:50+01:00',\n    'valueQuantity': {'value': 123,\n     'unit': 'kg',\n     'system': 'http://bar',\n     'code': 'kg'},\n    'identifier': [{'use': 'usual',\n      'type': {'text': 'Target responder resource fullUrl'},\n      'system': 'https://ehealthexchange.org/hub/internal/targetResponderFullUrl',\n      'value': 'https://hapi.fhir.org/baseR4/Observation/10316941'}]},\n   'search': {'mode': 'match'}},\n  {'fullUrl': 'https://concept01.ehealthexchange.org:52780/fhirproxy/r4/Observation/10321931',\n   'resource': {'resourceType': 'Observation',\n    'id': '10321931',\n    'meta': {'versionId': '1',\n     'lastUpdated': '2023-04-19T10:08:07.465+00:00',\n     'source': '#X6IgPN04mP4borkO'},\n    'code': {'coding': [{'system': 'http://foo', 'code': '12345'}]},\n    'subject': {'reference': 'Patient/592578'},\n    'effectiveDateTime': '2023-04-19T09:34:50+01:00',\n    'valueQuantity': {'value': 123,\n     'unit': 'kg',\n     'system': 'http://bar',\n     'code': 'kg'},\n    'identifier': [{'use': 'usual',\n      'type': {'text': 'Target responder resource fullUrl'},\n      'system': 'https://ehealthexchange.org/hub/internal/targetResponderFullUrl',\n      'value': 'https://hapi.fhir.org/baseR4/Observation/10321931'}]},\n   'search': {'mode': 'match'}}]}"
     },
     "execution_count": 33,
     "metadata": {},
     "output_type": "execute_result"
    }
   ],
   "source": [
    "client.search('Observation', query_params={\n",
    "            'patient': patient['resource']['id']\n",
    "})"
   ]
  },
  {
   "cell_type": "code",
   "execution_count": 34,
   "id": "22d72c64-24fb-40ed-ae85-e451098f30fb",
   "metadata": {
    "ExecuteTime": {
     "end_time": "2024-01-10T18:32:01.042835Z",
     "start_time": "2024-01-10T18:32:00.052019Z"
    }
   },
   "outputs": [
    {
     "name": "stderr",
     "output_type": "stream",
     "text": [
      "/Library/Frameworks/Python.framework/Versions/3.12/lib/python3.12/site-packages/urllib3/connectionpool.py:1099: InsecureRequestWarning: Unverified HTTPS request is being made to host 'concept01.ehealthexchange.org'. Adding certificate verification is strongly advised. See: https://urllib3.readthedocs.io/en/latest/advanced-usage.html#tls-warnings\n",
      "  warnings.warn(\n"
     ]
    },
    {
     "data": {
      "text/plain": "{'resourceType': 'Bundle',\n 'id': '08609c78-809d-46f7-927c-11977ccbce5a',\n 'meta': {'lastUpdated': '2024-01-10T18:31:07.298+00:00'},\n 'type': 'searchset',\n 'total': 0,\n 'link': [{'relation': 'self',\n   'url': 'https://hapi.fhir.org/baseR4/Encounter?patient=592578'}]}"
     },
     "execution_count": 34,
     "metadata": {},
     "output_type": "execute_result"
    }
   ],
   "source": [
    "client.search('Encounter', query_params={\n",
    "            'patient': patient['resource']['id']\n",
    "})"
   ]
  },
  {
   "cell_type": "code",
   "outputs": [],
   "source": [
    "client.close()"
   ],
   "metadata": {
    "collapsed": false,
    "ExecuteTime": {
     "end_time": "2024-01-10T18:32:01.043534Z",
     "start_time": "2024-01-10T18:32:01.038740Z"
    }
   },
   "id": "700b058039da87f6",
   "execution_count": 35
  }
 ],
 "metadata": {
  "kernelspec": {
   "display_name": "Python 3 (ipykernel)",
   "language": "python",
   "name": "python3"
  },
  "language_info": {
   "codemirror_mode": {
    "name": "ipython",
    "version": 3
   },
   "file_extension": ".py",
   "mimetype": "text/x-python",
   "name": "python",
   "nbconvert_exporter": "python",
   "pygments_lexer": "ipython3",
   "version": "3.12.1"
  }
 },
 "nbformat": 4,
 "nbformat_minor": 5
}
