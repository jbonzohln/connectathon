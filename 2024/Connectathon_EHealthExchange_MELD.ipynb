{
 "cells": [
  {
   "cell_type": "code",
   "execution_count": null,
   "id": "e06b372b-cf57-43f8-b0d3-59e52d597490",
   "metadata": {
    "collapsed": false,
    "editable": true,
    "jupyter": {
     "outputs_hidden": false
    },
    "slideshow": {
     "slide_type": ""
    },
    "tags": []
   },
   "outputs": [],
   "source": [
    "pip install -q -r requirements.txt"
   ]
  },
  {
   "cell_type": "code",
   "execution_count": null,
   "id": "ad6d1b7f-2d99-4949-893e-b17db6dbfa94",
   "metadata": {},
   "outputs": [],
   "source": [
    "import logging\n",
    "import json\n",
    "from IPython.display import Pretty, HTML\n",
    "import urllib3\n",
    "\n",
    "from pyfhirclient.FhirClient import FhirClient\n",
    "\n",
    "logging.basicConfig()\n",
    "logging.getLogger().setLevel(logging.ERROR)\n",
    "\n",
    "# Disable the unverified HTTPS request warnings\n",
    "urllib3.disable_warnings()"
   ]
  },
  {
   "cell_type": "code",
   "execution_count": null,
   "id": "ddae87dd-b946-49f4-90c6-35b8e939dc28",
   "metadata": {},
   "outputs": [],
   "source": [
    "def setup_fhir_client() -> FhirClient:\n",
    "    fhir_client = FhirClient(\n",
    "        base_url='https://concept01.ehealthexchange.org:52780/fhirproxy/r4/',\n",
    "        verify_ssl=False,\n",
    "        extra_headers={\n",
    "            'X-DESTINATION': 'Meld',\n",
    "            'X-POU': 'TREAT',\n",
    "        })\n",
    "\n",
    "    fhir_client.auth_type = 'Basic'\n",
    "    fhir_client.token = 'c3ZjX2VIeEZISVJTYW5kYm94OndpbGxmdWxTdHJvbmdTdGFuZHVyZDc'\n",
    "\n",
    "    return fhir_client"
   ]
  },
  {
   "cell_type": "code",
   "execution_count": null,
   "id": "34093991-7c01-4024-b44d-b110b3832399",
   "metadata": {},
   "outputs": [],
   "source": [
    "client = setup_fhir_client()\n",
    "\n",
    "search_results = client.search('Patient', {\n",
    "    'family': 'Blackstone',\n",
    "    'given': 'Veronica'\n",
    "})\n",
    "Pretty(json.dumps(search_results, indent=4))"
   ]
  },
  {
   "cell_type": "code",
   "execution_count": null,
   "id": "b70e48db58013b82",
   "metadata": {
    "collapsed": false,
    "jupyter": {
     "outputs_hidden": false
    }
   },
   "outputs": [],
   "source": [
    "patient = search_results['entry'][0]\n",
    "Pretty(json.dumps(patient, indent=4))"
   ]
  },
  {
   "cell_type": "code",
   "execution_count": null,
   "id": "52d167dc-37ed-4c92-9cb1-6b6863cac112",
   "metadata": {},
   "outputs": [],
   "source": [
    "medication_administration_results = client.search('MedicationAdministration', query_params={\n",
    "    'patient': patient['resource']['id'],\n",
    "    'code': '2671695' # penicillin\n",
    "})\n",
    "Pretty(json.dumps(medication_administration_results, indent=4))"
   ]
  },
  {
   "cell_type": "code",
   "execution_count": null,
   "id": "afe5cd62-6cc3-45fd-8804-8331c8baac58",
   "metadata": {},
   "outputs": [],
   "source": [
    "observation_search_results = client.search('Observation', query_params={\n",
    "    'patient': patient['resource']['id'],\n",
    "    'code': '82810-3' # Pregnancy status\n",
    "})\n",
    "\n",
    "Pretty(json.dumps(observation_search_results, indent=4))        "
   ]
  },
  {
   "cell_type": "code",
   "execution_count": null,
   "id": "22d72c64-24fb-40ed-ae85-e451098f30fb",
   "metadata": {},
   "outputs": [],
   "source": [
    "encounter_search_results = client.search('Encounter', query_params={\n",
    "    'patient': patient['resource']['id']\n",
    "})\n",
    "Pretty(json.dumps(encounter_search_results, indent=4))"
   ]
  },
  {
   "cell_type": "code",
   "execution_count": null,
   "id": "700b058039da87f6",
   "metadata": {
    "collapsed": false,
    "jupyter": {
     "outputs_hidden": false
    }
   },
   "outputs": [],
   "source": [
    "client.close()"
   ]
  }
 ],
 "metadata": {
  "kernelspec": {
   "display_name": "Python 3 (ipykernel)",
   "language": "python",
   "name": "python3"
  },
  "language_info": {
   "codemirror_mode": {
    "name": "ipython",
    "version": 3
   },
   "file_extension": ".py",
   "mimetype": "text/x-python",
   "name": "python",
   "nbconvert_exporter": "python",
   "pygments_lexer": "ipython3",
   "version": "3.12.0"
  }
 },
 "nbformat": 4,
 "nbformat_minor": 5
}
